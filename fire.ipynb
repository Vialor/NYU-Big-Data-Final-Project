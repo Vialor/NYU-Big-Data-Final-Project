{
  "cells": [
    {
      "cell_type": "markdown",
      "metadata": {
        "id": "3bTJEngUBOKW"
      },
      "source": [
        "# Set Up (Always run the cells in this section)"
      ]
    },
    {
      "cell_type": "code",
      "execution_count": null,
      "metadata": {
        "collapsed": true,
        "id": "Y-CDbPXE4ppC"
      },
      "outputs": [],
      "source": [
        "!apt-get install openjdk-11-jdk -y\n",
        "!wget https://archive.apache.org/dist/spark/spark-3.5.1/spark-3.5.1-bin-hadoop3.tgz\n",
        "!tar -xzf spark-3.5.1-bin-hadoop3.tgz\n",
        "!pip install -q findspark\n",
        "!pip install sodapy"
      ]
    },
    {
      "cell_type": "markdown",
      "metadata": {
        "id": "6_r2HqLUBNDh"
      },
      "source": []
    },
    {
      "cell_type": "code",
      "execution_count": null,
      "metadata": {
        "colab": {
          "base_uri": "https://localhost:8080/"
        },
        "collapsed": true,
        "id": "Keq42_r74fTE",
        "outputId": "48089629-6073-4190-f740-2ed37d26e7a0"
      },
      "outputs": [
        {
          "name": "stdout",
          "output_type": "stream",
          "text": [
            "Mounted at /content/drive\n"
          ]
        }
      ],
      "source": [
        "from sodapy import Socrata\n",
        "import pandas as pd\n",
        "import os\n",
        "\n",
        "import json\n",
        "from google.colab import drive\n",
        "\n",
        "import numpy as np\n",
        "import requests\n",
        "\n",
        "import findspark\n",
        "from pyspark.sql import SparkSession\n",
        "from pyspark.sql.functions import *\n",
        "from pyspark.sql import Window\n",
        "from pyspark.sql.types import DoubleType, StructType, StructField, StringType, TimestampType\n",
        "\n",
        "import matplotlib.pyplot as plt\n",
        "import seaborn as sns\n",
        "\n",
        "from sklearn.linear_model import LinearRegression\n",
        "from pyspark.ml.feature import VectorAssembler, StringIndexer, OneHotEncoder\n",
        "from pyspark.ml.classification import LogisticRegression\n",
        "from pyspark.ml import Pipeline\n",
        "from pyspark.ml.evaluation import BinaryClassificationEvaluator\n",
        "from pyspark.ml.evaluation import MulticlassClassificationEvaluator\n",
        "from sklearn.metrics import confusion_matrix\n",
        "from pyspark.ml.classification import RandomForestClassifier\n",
        "\n",
        "\n",
        "\n",
        "os.environ[\"JAVA_HOME\"] = \"/usr/lib/jvm/java-11-openjdk-amd64\"\n",
        "os.environ[\"SPARK_HOME\"] = \"/content/spark-3.5.1-bin-hadoop3\"\n",
        "\n",
        "\n",
        "findspark.init()\n",
        "drive.mount('/content/drive')\n",
        "\n",
        "spark = SparkSession.builder.appName(\"Fire Incident Data\").getOrCreate()"
      ]
    },
    {
      "cell_type": "markdown",
      "metadata": {
        "id": "EQa9YencBWmB"
      },
      "source": [
        "# Part 1: Preprocess Fire Incident Data\n",
        "\n",
        "Here is the link for the **housing complaint dataset** (filtered on problem codes containing “HEAT” and from year 2015 to 2025):  \n",
        "Original: 15M rows\n",
        "[Housing Maintenance Code Complaints and Problems](https://data.cityofnewyork.us/Housing-Development/Housing-Maintenance-Code-Complaints-and-Problems/ygpa-z7cr/about_data)\n",
        "\n",
        "Here is the link for the **fire incident dataset** (filtered on dates 01/01/2015–04/30/2025):  \n",
        "Original: 11.1M rows (3.12GB) → After filter: 126,200 rows  \n",
        "[Fire Incident Dispatch Data](https://data.cityofnewyork.us/Public-Safety/Fire-Incident-Dispatch-Data/8m42-w767/about_data)\n"
      ]
    },
    {
      "cell_type": "code",
      "execution_count": null,
      "metadata": {
        "id": "4n7ICr9tAMAc"
      },
      "outputs": [],
      "source": [
        "# spark = SparkSession.builder.appName(\"Fire Incident Data\").getOrCreate()\n",
        "\n",
        "# For weijun's path\n",
        "fire_path=\"/content/drive/My Drive/big_data/project/data/Fire_Incident_Dispatch_Data_20250507.csv\"\n",
        "\n",
        "# path for sharing group\n",
        "# fire_path=\"/content/drive/My Drive/project/data/Fire_Incident_Dispatch_Data_20250507.csv\"\n",
        "original_fire_df = spark.read.option(\"header\", True).csv(fire_path)"
      ]
    },
    {
      "cell_type": "code",
      "execution_count": null,
      "metadata": {
        "colab": {
          "base_uri": "https://localhost:8080/"
        },
        "id": "hkEaTsBJB1Lp",
        "outputId": "38e5deb3-e3e5-4a5a-f9be-aee179a1114b"
      },
      "outputs": [
        {
          "name": "stdout",
          "output_type": "stream",
          "text": [
            "11184121\n"
          ]
        }
      ],
      "source": [
        "fire_df = original_fire_df.na.drop(subset=[\"ALARM_BOX_BOROUGH\", \"INCIDENT_DATETIME\", \"ALARM_BOX_LOCATION\"])\n",
        "print(fire_df.count())"
      ]
    },
    {
      "cell_type": "code",
      "execution_count": null,
      "metadata": {
        "colab": {
          "base_uri": "https://localhost:8080/"
        },
        "id": "5rnxuLquCC4N",
        "outputId": "1ea67478-07dc-4710-bd85-79e366319ad5"
      },
      "outputs": [
        {
          "name": "stdout",
          "output_type": "stream",
          "text": [
            "6266453\n"
          ]
        }
      ],
      "source": [
        "# Allow backward-compatible date/time parsing\n",
        "spark.conf.set(\"spark.sql.legacy.timeParserPolicy\", \"LEGACY\")\n",
        "\n",
        "# Filter for the data\n",
        "fire_df = fire_df.withColumn(\"INCIDENT_DATETIME\", to_date(\"INCIDENT_DATETIME\", \"MM/dd/yyyy\"))\n",
        "start_date = \"2015-01-01\"\n",
        "end_date = \"2025-04-30\"\n",
        "\n",
        "fire_df = fire_df.filter(\n",
        "    (col(\"INCIDENT_DATETIME\") >= start_date) & (col(\"INCIDENT_DATETIME\") <= end_date)\n",
        ")\n",
        "print(fire_df.count())"
      ]
    },
    {
      "cell_type": "code",
      "execution_count": null,
      "metadata": {
        "id": "5QHUKs3cEmTt"
      },
      "outputs": [],
      "source": [
        "# Filter for the incident type relative to the heat\n",
        "fire_df = fire_df.filter(\n",
        "    (col(\"INCIDENT_CLASSIFICATION\") == \"Private Dwelling Fire\") |\n",
        "    (col(\"INCIDENT_CLASSIFICATION\") == \"Multiple Dwelling 'A' - Other fire\") |\n",
        "    (col(\"INCIDENT_CLASSIFICATION\") == \"Multiple Dwelling 'B' Fire\")\n",
        ")"
      ]
    },
    {
      "cell_type": "code",
      "execution_count": null,
      "metadata": {
        "colab": {
          "base_uri": "https://localhost:8080/"
        },
        "id": "H9UCO09IzahV",
        "outputId": "9c09dae4-8297-45bb-d318-683502fb08b1"
      },
      "outputs": [
        {
          "name": "stdout",
          "output_type": "stream",
          "text": [
            "Count of Total fire: 126200\n",
            "Count of 'Private Dwelling Fire': 68735\n",
            "Count of 'Multiple Dwelling 'A' Fire': 40957\n",
            "Count of 'Multiple Dwelling 'B' Fire': 16508 \n",
            "\n"
          ]
        }
      ],
      "source": [
        "# this is count area for analysis, don't have to run it every time (waste time)\n",
        "# Finding count for each individual incident \"INCIDENT_CLASSIFICATION\" of fire incident\n",
        "private_dwelling_count = fire_df.filter(col(\"INCIDENT_CLASSIFICATION\") == \"Private Dwelling Fire\").count()\n",
        "multiple_dwellingA_count = fire_df.filter(col(\"INCIDENT_CLASSIFICATION\") == \"Multiple Dwelling 'A' - Other fire\").count()\n",
        "multiple_dwelling_count = fire_df.filter(col(\"INCIDENT_CLASSIFICATION\") == \"Multiple Dwelling 'B' Fire\").count()\n",
        "\n",
        "print(f\"Count of Total fire: {fire_df.count()}\")\n",
        "print(f\"Count of 'Private Dwelling Fire': {private_dwelling_count}\")\n",
        "print(f\"Count of 'Multiple Dwelling 'A' Fire': {multiple_dwellingA_count}\")\n",
        "print(f\"Count of 'Multiple Dwelling \\'B\\' Fire': {multiple_dwelling_count} \\n\")\n",
        "\n",
        "fire_count = private_dwelling_count + multiple_dwelling_count + multiple_dwellingA_count"
      ]
    },
    {
      "cell_type": "code",
      "execution_count": null,
      "metadata": {
        "colab": {
          "base_uri": "https://localhost:8080/"
        },
        "id": "9f6zbsEeIReU",
        "outputId": "995247f4-0a7b-4c9f-fe59-5a9ef2e241f1"
      },
      "outputs": [
        {
          "name": "stdout",
          "output_type": "stream",
          "text": [
            "+-----------------+--------------------------------+------------------------+-------+----------------------------------+\n",
            "|INCIDENT_DATETIME|ALARM_BOX_LOCATION              |INCIDENT_BOROUGH        |ZIPCODE|INCIDENT_CLASSIFICATION           |\n",
            "+-----------------+--------------------------------+------------------------+-------+----------------------------------+\n",
            "|2015-01-01       |1 AVE & 108 ST                  |MANHATTAN               |10029  |Multiple Dwelling 'A' - Other fire|\n",
            "|2015-01-01       |MONTGOMERY ST & BEDFORD AVE     |BROOKLYN                |11225  |Multiple Dwelling 'A' - Other fire|\n",
            "|2015-01-01       |TAYLOR AVE & GUERLAIN ST        |BRONX                   |10460  |Multiple Dwelling 'A' - Other fire|\n",
            "|2015-01-01       |BENNETT AVE AND 181ST ST        |MANHATTAN               |10033  |Multiple Dwelling 'A' - Other fire|\n",
            "|2015-01-01       |9 AVE & W 26 ST                 |MANHATTAN               |10001  |Multiple Dwelling 'A' - Other fire|\n",
            "|2015-01-01       |BEDFORD AVE & N 6 ST            |BROOKLYN                |11211  |Multiple Dwelling 'A' - Other fire|\n",
            "|2015-01-01       |LEXINGTON AVE & E 23 ST         |MANHATTAN               |10010  |Multiple Dwelling 'B' Fire        |\n",
            "|2015-01-01       |WILSON AVE & JEFFERSON ST       |BROOKLYN                |11237  |Multiple Dwelling 'B' Fire        |\n",
            "|2015-01-01       |MADISON AVE & E 135 ST          |MANHATTAN               |10037  |Multiple Dwelling 'A' - Other fire|\n",
            "|2015-01-01       |97 AVE & WOODHAVEN BLVD         |QUEENS                  |11416  |Multiple Dwelling 'B' Fire        |\n",
            "|2015-01-01       |FDR DRIVE & 13 ST               |MANHATTAN               |10009  |Multiple Dwelling 'A' - Other fire|\n",
            "|2015-01-01       |AMSTERDAM AVE & 132 ST          |MANHATTAN               |10027  |Multiple Dwelling 'A' - Other fire|\n",
            "|2015-01-01       |112 AVE & FARMERS BLVD          |QUEENS                  |11412  |Private Dwelling Fire             |\n",
            "|2015-01-01       |MONROE & RUTGERS STS            |MANHATTAN               |10002  |Multiple Dwelling 'A' - Other fire|\n",
            "|2015-01-01       |VICTORY BLVD OPP MONROE AVE     |RICHMOND / STATEN ISLAND|10301  |Multiple Dwelling 'A' - Other fire|\n",
            "|2015-01-01       |WILLMOHR ST & E 93 ST           |BROOKLYN                |11212  |Multiple Dwelling 'A' - Other fire|\n",
            "|2015-01-01       |SEYMOUR & GIVAN AVES            |BRONX                   |10469  |Private Dwelling Fire             |\n",
            "|2015-01-01       |FORT WASHINGTON AVE & 161 ST    |MANHATTAN               |10032  |Multiple Dwelling 'A' - Other fire|\n",
            "|2015-01-01       |8 AVE & 143 ST                  |MANHATTAN               |10030  |Multiple Dwelling 'A' - Other fire|\n",
            "|2015-01-01       |PORT RICHMOND AVE & RICHMOND TER|RICHMOND / STATEN ISLAND|10302  |Multiple Dwelling 'A' - Other fire|\n",
            "+-----------------+--------------------------------+------------------------+-------+----------------------------------+\n",
            "only showing top 20 rows\n",
            "\n"
          ]
        }
      ],
      "source": [
        "fire_selected_df=fire_df.select(\"INCIDENT_DATETIME\",\"ALARM_BOX_LOCATION\",\"INCIDENT_BOROUGH\",\"ZIPCODE\",\"INCIDENT_CLASSIFICATION\")\n",
        "fire_selected_df.show(truncate=False)"
      ]
    },
    {
      "cell_type": "code",
      "execution_count": null,
      "metadata": {
        "colab": {
          "base_uri": "https://localhost:8080/"
        },
        "id": "kC29FirdRhaW",
        "outputId": "4af6556c-c11f-4d98-af5d-50878f505b0a"
      },
      "outputs": [
        {
          "name": "stdout",
          "output_type": "stream",
          "text": [
            "126200\n",
            "the total count for null address2: 1975\n",
            "+-----------------+----------------------------------------+------------------------+-------+----------------------------------+--------------------------------------+----------------------------------------+--------------------------------------+---------+------------+\n",
            "|INCIDENT_DATETIME|ALARM_BOX_LOCATION                      |INCIDENT_BOROUGH        |ZIPCODE|INCIDENT_CLASSIFICATION           |normalized_location                   |address_parts                           |address_1                             |address_2|borough_code|\n",
            "+-----------------+----------------------------------------+------------------------+-------+----------------------------------+--------------------------------------+----------------------------------------+--------------------------------------+---------+------------+\n",
            "|2015-01-01       |RANDALL AVE 500' W OF ROSEDALE AVE      |BRONX                   |10473  |Multiple Dwelling 'A' - Other fire|RANDALL AVE 500' W  ROSEDALE AVE      |[RANDALL AVE 500' W  ROSEDALE AVE]      |RANDALL AVE 500' W  ROSEDALE AVE      |NULL     |2           |\n",
            "|2015-01-02       |180 ST-200' WEST OF BOSTON RD           |BRONX                   |10460  |Multiple Dwelling 'A' - Other fire|180 ST-200'   BOSTON RD               |[180 ST-200'   BOSTON RD]               |180 ST-200'   BOSTON RD               |NULL     |2           |\n",
            "|2015-01-03       |PARK AVE 200' S OF E 135 ST             |MANHATTAN               |10037  |Multiple Dwelling 'A' - Other fire|PARK AVE 200' S  E 135 ST             |[PARK AVE 200' S  E 135 ST]             |PARK AVE 200' S  E 135 ST             |NULL     |1           |\n",
            "|2015-01-04       |RANDALL AVE 500' W OF ROSEDALE AVE      |BRONX                   |10473  |Multiple Dwelling 'A' - Other fire|RANDALL AVE 500' W  ROSEDALE AVE      |[RANDALL AVE 500' W  ROSEDALE AVE]      |RANDALL AVE 500' W  ROSEDALE AVE      |NULL     |2           |\n",
            "|2015-01-05       |BOSTON RD-400' NORTH OF 180 ST          |BRONX                   |10460  |Multiple Dwelling 'A' - Other fire|BOSTON RD-400'   180 ST               |[BOSTON RD-400'   180 ST]               |BOSTON RD-400'   180 ST               |NULL     |2           |\n",
            "|2015-01-06       |ST MARKS PL 200' S OF NICHOLAS ST       |RICHMOND / STATEN ISLAND|10301  |Multiple Dwelling 'B' Fire        |ST MARKS PL 200' S  NICHOLAS ST       |[ST MARKS PL 200' S  NICHOLAS ST]       |ST MARKS PL 200' S  NICHOLAS ST       |NULL     |5           |\n",
            "|2015-01-08       |HAVEMEYER ST, NORTH OF DIVISION AVE     |BROOKLYN                |11211  |Multiple Dwelling 'A' - Other fire|HAVEMEYER ST,   DIVISION AVE          |[HAVEMEYER ST,   DIVISION AVE]          |HAVEMEYER ST,   DIVISION AVE          |NULL     |3           |\n",
            "|2015-01-09       |SANDS ST 300' W OF NAVY ST              |BROOKLYN                |11201  |Multiple Dwelling 'A' - Other fire|SANDS ST 300' W  NAVY ST              |[SANDS ST 300' W  NAVY ST]              |SANDS ST 300' W  NAVY ST              |NULL     |3           |\n",
            "|2015-01-11       |BOSTON RD-400' NORTH OF 180 ST          |BRONX                   |10460  |Multiple Dwelling 'A' - Other fire|BOSTON RD-400'   180 ST               |[BOSTON RD-400'   180 ST]               |BOSTON RD-400'   180 ST               |NULL     |2           |\n",
            "|2015-01-13       |TOMPKINS AVE 500' N OF VANDERBILT AVE   |RICHMOND / STATEN ISLAND|10304  |Private Dwelling Fire             |TOMPKINS AVE 500' N  VANDERBILT AVE   |[TOMPKINS AVE 500' N  VANDERBILT AVE]   |TOMPKINS AVE 500' N  VANDERBILT AVE   |NULL     |5           |\n",
            "|2015-01-14       |SANDS ST 300' W OF NAVY ST              |BROOKLYN                |11201  |Multiple Dwelling 'A' - Other fire|SANDS ST 300' W  NAVY ST              |[SANDS ST 300' W  NAVY ST]              |SANDS ST 300' W  NAVY ST              |NULL     |3           |\n",
            "|2015-01-14       |161 ST-700 NORTH OF JEWEL AVE           |QUEENS                  |11365  |Private Dwelling Fire             |161 ST-700   JEWEL AVE                |[161 ST-700   JEWEL AVE]                |161 ST-700   JEWEL AVE                |NULL     |4           |\n",
            "|2015-01-17       |N-SVC RD H HARDING EXPY-400' W OF 136 ST|QUEENS                  |11367  |Private Dwelling Fire             |N-SVC RD H HARDING EXPY-400' W  136 ST|[N-SVC RD H HARDING EXPY-400' W  136 ST]|N-SVC RD H HARDING EXPY-400' W  136 ST|NULL     |4           |\n",
            "|2015-01-17       |WARD'S IS., OUTSIDE ADMIN. BLDG         |MANHATTAN               |10035  |Multiple Dwelling 'A' - Other fire|WARD'S IS., OUTSIDE ADMIN. BLDG       |[WARD'S IS., OUTSIDE ADMIN. BLDG]       |WARD'S IS., OUTSIDE ADMIN. BLDG       |NULL     |1           |\n",
            "|2015-01-19       |DEAD END OF NEVADA AVE\\RICHMOND VFD     |RICHMOND / STATEN ISLAND|10306  |Private Dwelling Fire             |DEAD END  NEVADA AVE\\RICHMOND VFD     |[DEAD END  NEVADA AVE\\RICHMOND VFD]     |DEAD END  NEVADA AVE\\RICHMOND VFD     |NULL     |5           |\n",
            "|2015-01-20       |MOORE ST-75' WEST OF BUSHWICK AVE       |BROOKLYN                |11206  |Multiple Dwelling 'A' - Other fire|MOORE ST-75'   BUSHWICK AVE           |[MOORE ST-75'   BUSHWICK AVE]           |MOORE ST-75'   BUSHWICK AVE           |NULL     |3           |\n",
            "|2015-01-20       |LOCKMAN AVE-850' SOUTH OF RICHMOND TERR.|RICHMOND / STATEN ISLAND|10303  |Private Dwelling Fire             |LOCKMAN AVE-850'   RICHMOND TERR.     |[LOCKMAN AVE-850'   RICHMOND TERR.]     |LOCKMAN AVE-850'   RICHMOND TERR.     |NULL     |5           |\n",
            "|2015-01-20       |BETHEL LOOP, S OF VANDALIA AVES         |BROOKLYN                |11239  |Multiple Dwelling 'A' - Other fire|BETHEL LOOP, S  VANDALIA AVES         |[BETHEL LOOP, S  VANDALIA AVES]         |BETHEL LOOP, S  VANDALIA AVES         |NULL     |3           |\n",
            "|2015-01-23       |DUMONT AV-500' E. OF ROCKAWAY AV        |BROOKLYN                |11212  |Multiple Dwelling 'A' - Other fire|DUMONT AV-500' E.  ROCKAWAY AV        |[DUMONT AV-500' E.  ROCKAWAY AV]        |DUMONT AV-500' E.  ROCKAWAY AV        |NULL     |3           |\n",
            "|2015-01-23       |RANDALL AVE 1000' W OF ROSEDALE AVE     |BRONX                   |10473  |Multiple Dwelling 'A' - Other fire|RANDALL AVE 1000' W  ROSEDALE AVE     |[RANDALL AVE 1000' W  ROSEDALE AVE]     |RANDALL AVE 1000' W  ROSEDALE AVE     |NULL     |2           |\n",
            "+-----------------+----------------------------------------+------------------------+-------+----------------------------------+--------------------------------------+----------------------------------------+--------------------------------------+---------+------------+\n",
            "only showing top 20 rows\n",
            "\n"
          ]
        }
      ],
      "source": [
        "fire_address_df = fire_selected_df.withColumn(\"normalized_location\", upper(col(\"ALARM_BOX_LOCATION\")))\n",
        "\n",
        "# Replace all separators (OPP, AND, /, @, AT) with \"&\"\n",
        "fire_address_df = fire_address_df.withColumn(\n",
        "    \"normalized_location\",\n",
        "    regexp_replace(col(\"normalized_location\"), r\"(?i)\\b(OPP|AND|/|@|AT)\\b\", \"&\")\n",
        ")\n",
        "\n",
        "# STEP 3: Remove compass directions & noise\n",
        "fire_address_df = fire_address_df.withColumn(\n",
        "    \"normalized_location\",\n",
        "    regexp_replace(col(\"normalized_location\"), r\"^(?:[NSEW]{1,2}/[NSEW]{1,2}|[NSEW]{1,2})\\s+\", \"\")\n",
        ")\n",
        "\n",
        "fire_address_df = fire_address_df.withColumn(\n",
        "    \"normalized_location\",\n",
        "    regexp_replace(col(\"normalized_location\"), r\"\\b(NORTH|SOUTH|EAST|WEST|TO|BET|BETWEEN|HOSPITAL|AIRPORT|OF)\\b\", \"\")\n",
        ")\n",
        "\n",
        "# Split by \"&\" and clean up\n",
        "fire_address_df= fire_address_df.withColumn(\"address_parts\", split(col(\"normalized_location\"), \"&\")) \\\n",
        "       .withColumn(\"address_1\", trim(col(\"address_parts\")[0])) \\\n",
        "       .withColumn(\"address_2\", trim(col(\"address_parts\")[1]))\n",
        "\n",
        "# convert borough to borough code for API\n",
        "fire_address_df = fire_address_df.withColumn(\n",
        "    \"borough_code\",\n",
        "    when(col(\"INCIDENT_BOROUGH\") == \"MANHATTAN\", 1)\\\n",
        "    .when(col(\"INCIDENT_BOROUGH\") == \"BRONX\", 2)\\\n",
        "    .when(col(\"INCIDENT_BOROUGH\") == \"BROOKLYN\", 3)\\\n",
        "    .when(col(\"INCIDENT_BOROUGH\") == \"QUEENS\", 4)\\\n",
        "    .when(col(\"INCIDENT_BOROUGH\").startswith(\"RICHMOND\"), 5)\n",
        "    .otherwise(None)\n",
        ")\n",
        "print(fire_address_df.count())\n",
        "null_address2_df = fire_address_df.filter(col(\"address_2\").isNull())\n",
        "print(f\"the total count for null address2: {null_address2_df.count()}\")\n",
        "null_address2_df.show(truncate=False)\n",
        "fire_address_df = fire_address_df.filter(col(\"address_2\").isNotNull())"
      ]
    },
    {
      "cell_type": "markdown",
      "metadata": {
        "id": "Z2h4fykVEfY8"
      },
      "source": [
        "## Fetch Latitude and Longtitude for Fire Incidents"
      ]
    },
    {
      "cell_type": "markdown",
      "metadata": {
        "id": "uocZ0Oj7b3M3"
      },
      "source": [
        "Using mappartition with async method to parallel the API request"
      ]
    },
    {
      "cell_type": "code",
      "execution_count": null,
      "metadata": {
        "id": "bEcKaelg1-p9"
      },
      "outputs": [],
      "source": [
        "import asyncio\n",
        "import aiohttp\n",
        "import nest_asyncio\n",
        "import pandas as pd\n",
        "from datetime import datetime\n",
        "from pyspark.sql.types import StructType, StructField, StringType, DoubleType, TimestampType\n",
        "import time\n",
        "\n",
        "nest_asyncio.apply()\n",
        "\n",
        "def geocode_partition_async(rows):\n",
        "    KEY = \"5u8xLAUDBG3KbPeS\"\n",
        "    BASE_URL = \"https://geoservice.planning.nyc.gov/geoservice/geoservice.svc/Function_2\"\n",
        "    NODE_URL = \"https://geoservice.planning.nyc.gov/geoservice/geoservice.svc/Function_2_NodeID\"\n",
        "\n",
        "    failed_rows = []\n",
        "    semaphore = asyncio.Semaphore(150)\n",
        "\n",
        "    def parse_datetime_safe(date_str):\n",
        "        try:\n",
        "            dt = datetime.strptime(date_str, \"%m/%d/%Y %I:%M:%S %p\")\n",
        "            return dt.strftime(\"%Y-%m-%d\")\n",
        "        except Exception:\n",
        "            print(f\"Error parsing date: {date_str}\")\n",
        "            return None\n",
        "\n",
        "    async def fetch_geocode(session, bcode, s1, s2, retries=5):\n",
        "        params = {\n",
        "            \"Borough1\": bcode,\n",
        "            \"Street1\": s1,\n",
        "            \"Borough2\": bcode,\n",
        "            \"Street2\": s2,\n",
        "            \"DisplayFormat\": \"True\",\n",
        "            \"Key\": KEY\n",
        "        }\n",
        "\n",
        "        async with semaphore:\n",
        "            for attempt in range(retries):\n",
        "                try:\n",
        "                    async with session.get(BASE_URL, params=params, timeout=6) as response:\n",
        "                        if response.status == 200:\n",
        "                            data = await response.json()\n",
        "                            display = data.get(\"display\", {})\n",
        "                            lat = display.get(\"out_latitude\", \"\").strip()\n",
        "                            lon = display.get(\"out_longitude\", \"\").strip()\n",
        "                            if lat and lon:\n",
        "                                return float(lat), float(lon)\n",
        "\n",
        "                            nodes = display.get(\"NodeList\") or []\n",
        "                            for node_id in nodes:\n",
        "                                nlat, nlon = await fetch_geocode_node(session, node_id)\n",
        "                                if nlat and nlon:\n",
        "                                    return float(nlat), float(nlon)\n",
        "                except Exception as e:\n",
        "                    if attempt < retries - 1:\n",
        "                        await asyncio.sleep(2 ** attempt)\n",
        "                    else:\n",
        "                        print(f\"[ERROR] async geocode failed for {s1} x {s2} in {bcode}: {e}\")\n",
        "        return None, None\n",
        "\n",
        "    async def fetch_geocode_node(session, node_id, retries=5):\n",
        "        params = {\n",
        "            \"nodeID\": node_id,\n",
        "            \"DisplayFormat\": \"True\",\n",
        "            \"Key\": KEY\n",
        "        }\n",
        "        async with semaphore:\n",
        "            for attempt in range(retries):\n",
        "                try:\n",
        "                    async with session.get(NODE_URL, params=params, timeout=6) as response:\n",
        "                        if response.status == 200:\n",
        "                            data = await response.json()\n",
        "                            display = data.get(\"display\", {})\n",
        "                            lat = display.get(\"out_latitude\", \"\").strip()\n",
        "                            lon = display.get(\"out_longitude\", \"\").strip()\n",
        "                            if lat and lon:\n",
        "                                return float(lat), float(lon)\n",
        "                except Exception as e:\n",
        "                    if attempt < retries - 1:\n",
        "                        await asyncio.sleep(2 ** attempt)\n",
        "                    else:\n",
        "                        print(f\"Node fallback error (after retries): {e}\")\n",
        "        return None, None\n",
        "\n",
        "    async def process_partition():\n",
        "        results = []\n",
        "        connector = aiohttp.TCPConnector(limit=180, limit_per_host=150)\n",
        "        async with aiohttp.ClientSession(connector=connector) as session:\n",
        "            rows_list = list(rows)\n",
        "            print(f\" Partition received {len(rows_list)} rows\")\n",
        "\n",
        "            tasks = []\n",
        "            for row in rows_list:\n",
        "                bcode = row[\"borough_code\"]\n",
        "                s1 = row[\"address_1\"]\n",
        "                s2 = row[\"address_2\"]\n",
        "                tasks.append(fetch_geocode(session, bcode, s1, s2))\n",
        "\n",
        "            responses = await asyncio.gather(*tasks)\n",
        "\n",
        "            for row, result in zip(rows_list, responses):\n",
        "                formatted_date = row[\"INCIDENT_DATETIME\"]\n",
        "                if isinstance(result, Exception) or result == (None, None):\n",
        "                    failed_rows.append({\n",
        "                        \"INCIDENT_DATETIME\": formatted_date,\n",
        "                        \"INCIDENT_CLASSIFICATION\": row[\"INCIDENT_CLASSIFICATION\"],\n",
        "                        \"borough_code\": row[\"borough_code\"],\n",
        "                        \"address_1\": row[\"address_1\"],\n",
        "                        \"address_2\": row[\"address_2\"]\n",
        "                    })\n",
        "                else:\n",
        "                    lat, lon = result\n",
        "                    results.append((\n",
        "                        formatted_date,\n",
        "                        row[\"INCIDENT_CLASSIFICATION\"],\n",
        "                        row[\"borough_code\"],\n",
        "                        row[\"address_1\"],\n",
        "                        row[\"address_2\"],\n",
        "                        lat,\n",
        "                        lon\n",
        "                    ))\n",
        "        print(f\"[Partition done] {len(results)} success, {len(failed_rows)} failed\")\n",
        "        return results\n",
        "\n",
        "    loop = asyncio.get_event_loop()\n",
        "    final_results = loop.run_until_complete(process_partition())\n",
        "\n",
        "    if failed_rows:\n",
        "        df_failed = pd.DataFrame(failed_rows)\n",
        "        df_failed.to_csv('/content/drive/My Drive/big_data/project/data/failed_geocoding_rows.csv', index=False)\n",
        "        print(f\"Saved {len(failed_rows)} failed rows\")\n",
        "\n",
        "    return iter(final_results)\n"
      ]
    },
    {
      "cell_type": "code",
      "execution_count": null,
      "metadata": {
        "colab": {
          "base_uri": "https://localhost:8080/"
        },
        "collapsed": true,
        "id": "kKL_jUte3BTK",
        "outputId": "b2a58ea3-3f7b-4ca0-d234-71486a3cf850"
      },
      "outputs": [
        {
          "name": "stdout",
          "output_type": "stream",
          "text": [
            "Total time elapsed: 2106.50 seconds\n"
          ]
        }
      ],
      "source": [
        "result=fire_address_df.repartition(25)\n",
        "start_time = time.time()\n",
        "# SCHEMA TO CONVERT FROM RDD TO DATAFRAME\n",
        "\n",
        "schema = StructType([\n",
        "    StructField(\"incident_datetime\", StringType(), True),\n",
        "    StructField(\"incident_classification\", StringType(), True),\n",
        "    StructField(\"borough_code\", StringType(), True),\n",
        "    StructField(\"address_1\", StringType(), True),\n",
        "    StructField(\"address_2\", StringType(), True),\n",
        "    StructField(\"latitude\", DoubleType(), True),\n",
        "    StructField(\"longitude\", DoubleType(), True),\n",
        "])\n",
        "\n",
        "rdd = result.rdd.mapPartitions(geocode_partition_async)\n",
        "geocoded_df = spark.createDataFrame(rdd, schema).withColumnRenamed(\"address_1\", \"street1\").withColumnRenamed(\"address_2\", \"street2\")\n",
        "# geocoded_df.write.csv('/content/drive/My Drive/big_data/project/data/fire_address/newest_output_fire_address_detail.csv', header=True, mode=\"overwrite\")\n",
        "geocoded_df.write.csv('/content/drive/My Drive/big_data/project/fire_address/asy_output_fire_address_detail.csv', header=True, mode=\"overwrite\")\n",
        "end_time = time.time()\n",
        "elapsed_time = end_time - start_time\n",
        "\n",
        "print(f\"Total time elapsed: {elapsed_time:.2f} seconds\")"
      ]
    },
    {
      "cell_type": "code",
      "execution_count": null,
      "metadata": {
        "colab": {
          "base_uri": "https://localhost:8080/"
        },
        "id": "Y0LFJAQK2-uT",
        "outputId": "a4171d70-e2ab-4bc9-9cb2-b4027c1fa877"
      },
      "outputs": [
        {
          "name": "stdout",
          "output_type": "stream",
          "text": [
            "Total rows: 100448\n"
          ]
        }
      ],
      "source": [
        "# Read all CSV files in the folder\n",
        "geocoded_df = spark.read.option(\"header\", True).csv('/content/drive/My Drive/big_data/project/fire_address/asy_output_fire_address_detail.csv')\n",
        "row_count = geocoded_df.count()\n",
        "print(f\"Total rows: {row_count}\")"
      ]
    },
    {
      "cell_type": "markdown",
      "metadata": {
        "id": "0C8yIQlLfJCo"
      },
      "source": [
        "## Original implementation"
      ]
    },
    {
      "cell_type": "code",
      "execution_count": null,
      "metadata": {
        "id": "dH1wiP7GeDCD"
      },
      "outputs": [],
      "source": [
        "# REFACTORED CODE FOR GEOCODING FIRE DATA IN REGULAR METHOD\n",
        "\n",
        "# def geocode_partition(rows):\n",
        "\n",
        "#   KEY = \"5u8xLAUDBG3KbPeS\"\n",
        "\n",
        "\n",
        "#   ### FUNCTION DEFINITIONS ###\n",
        "\n",
        "#   def get_lat_lon_from_streets_node(node_id):\n",
        "#     node_url = \"https://geoservice.planning.nyc.gov/geoservice/geoservice.svc/Function_2_NodeID\"\n",
        "\n",
        "#     params = {\n",
        "#         \"nodeID\": node_id,\n",
        "#         \"DisplayFormat\": \"True\",\n",
        "#         \"Key\": KEY\n",
        "#     }\n",
        "\n",
        "#     try:\n",
        "#         r = requests.get(node_url, params=params, timeout=5)\n",
        "#         if r.status_code == 200:\n",
        "#           data = r.json()[\"display\"]\n",
        "#           lat = data.get(\"out_latitude\", \"\").strip()\n",
        "#           lon = data.get(\"out_longitude\", \"\").strip()\n",
        "#           if lat and lon:\n",
        "#               return float(lat), float(lon)\n",
        "\n",
        "#     except Exception as e:\n",
        "#         print(f\"Parsing error: {e}\")\n",
        "\n",
        "#     return None, None\n",
        "\n",
        "\n",
        "#   def get_lat_lon_from_streets(borough_code, street1, street2):\n",
        "#     url = \"https://geoservice.planning.nyc.gov/geoservice/geoservice.svc/Function_2\"\n",
        "\n",
        "#     params = {\n",
        "#         \"Borough1\": borough_code,\n",
        "#         \"Street1\": street1,\n",
        "#         \"Borough2\": borough_code,\n",
        "#         \"Street2\": street2,\n",
        "#         \"DisplayFormat\": \"True\",\n",
        "#         \"Key\": \"5u8xLAUDBG3KbPeS\"\n",
        "#     }\n",
        "\n",
        "#     try:\n",
        "\n",
        "#       response = requests.get(url, params=params)\n",
        "\n",
        "#       if response.status_code == 200:\n",
        "#         data = response.json()[\"display\"]\n",
        "#         lat = data.get(\"out_latitude\", \"\").strip()\n",
        "#         lon = data.get(\"out_longitude\", \"\").strip()\n",
        "\n",
        "#         if lat and lon:\n",
        "#             return float(lat), float(lon)\n",
        "\n",
        "#         nodes = data[\"display\"].get(\"NodeList\", [])\n",
        "\n",
        "#         for node_id in nodes:\n",
        "#             lat, lon = get_lat_lon_from_streets_node(node_id)\n",
        "#             if lat and lon:\n",
        "#                 return float(lat), float(lon)\n",
        "\n",
        "#     except Exception as e:\n",
        "#         print(f\"Parsing error: {e}\")\n",
        "\n",
        "#     return None, None\n",
        "\n",
        "\n",
        "#   ### CONTINUE EXECUTION CODE ###\n",
        "\n",
        "#   results = []\n",
        "#   for row in rows:\n",
        "#       try:\n",
        "#           bcode = row[\"borough_code\"]\n",
        "#           s1 = row[\"address_1\"]\n",
        "#           s2 = row[\"address_2\"]\n",
        "#           indate = row[\"INCIDENT_DATETIME\"]\n",
        "#           inclass = row[\"INCIDENT_CLASSIFICATION\"]\n",
        "#           lat, lon = get_lat_lon_from_streets(bcode, s1, s2)\n",
        "\n",
        "#           if lat is not None and lon is not None:\n",
        "#               results.append((indate, inclass, bcode, s1, s2, lat, lon))\n",
        "\n",
        "#       # skip rowsa that row unexpected exceptions\n",
        "#       except Exception:\n",
        "#           continue\n",
        "\n",
        "#   return iter(results)\n",
        "# # SCHEMA TO CONVERT FROM RDD TO DATAFRAME\n",
        "\n",
        "# schema = StructType([\n",
        "#     StructField(\"incident_datetime\", StringType(), True),\n",
        "#     StructField(\"incident_classification\", StringType(), True),\n",
        "#     StructField(\"borough_code\", StringType(), True),\n",
        "#     StructField(\"address_1\", StringType(), True),\n",
        "#     StructField(\"address_2\", StringType(), True),\n",
        "#     StructField(\"latitude\", DoubleType(), True),\n",
        "#     StructField(\"longitude\", DoubleType(), True),\n",
        "# ])\n",
        "\n",
        "# # REFACTORED DRIVER FOR GETTING LAT AND LON #\n",
        "\n",
        "# # instead of assigning the entire dataframe to one function, we\n",
        "# # execute the function on each partition that spark creates. this lets\n",
        "# # us execute the code asynchronously\n",
        "\n",
        "# rdd = fire_address_df.rdd.mapPartitions(geocode_partition)\n",
        "\n",
        "# geocoded_df = spark.createDataFrame(rdd, schema)\n",
        "\n",
        "# geocoded_df.show()\n",
        "\n",
        "# geocoded_df.write.csv('/content/drive/My Drive/big_data/project/data/new_output_fire_address_detail.csv', header=True, mode=\"overwrite\")"
      ]
    },
    {
      "cell_type": "code",
      "execution_count": null,
      "metadata": {
        "colab": {
          "base_uri": "https://localhost:8080/"
        },
        "id": "cqayOFQnAvcz",
        "outputId": "52070737-9f76-4b40-dc55-5a22fe5507ff"
      },
      "outputs": [
        {
          "name": "stdout",
          "output_type": "stream",
          "text": [
            "Total rows: 184447\n"
          ]
        }
      ],
      "source": [
        "# Read all CSV files in the folder\n",
        "geocoded_df = spark.read.option(\"header\", True).csv('/content/drive/My Drive/big_data/project/data/new_output_fire_address_detail.csv')\n",
        "# geocoded_df = spark.read.option(\"header\", True).csv('/content/drive/My Drive/big_data/project/refactored_output_fire_address_detail.csv')\n",
        "row_count = geocoded_df.count()\n",
        "print(f\"Total rows: {row_count}\")"
      ]
    },
    {
      "cell_type": "markdown",
      "metadata": {
        "id": "DQIZ8edJG3HR"
      },
      "source": [
        "## Part 2: Filter Housing Complaint Data\n",
        "\n",
        "**Filter Criteria:**\n",
        "- **Date Range:** January 1, 2015 – February 28, 2025  \n",
        "\n",
        "**Grouping the coordiantate location**\n",
        "\n",
        "**Adding time window column**\n"
      ]
    },
    {
      "cell_type": "code",
      "execution_count": null,
      "metadata": {
        "id": "32vxLBCKdhoI"
      },
      "outputs": [],
      "source": [
        "spark=SparkSession.builder.appName(\"Fire Incident and Housing Complaints\").getOrCreate()\n",
        "\n",
        "# Path for sharing group\n",
        "housing_path = \"/content/drive/My Drive/project/data/Original_Housing_Maintenance_Code_Complaints_and_Problems_20250430.csv\"\n",
        "fire_address_path=\"/content/drive/My Drive/project/data/new_output_fire_address_detail.csv\"\n",
        "\n",
        "# Path for weijun\n",
        "# housing_path = \"/content/drive/My Drive/big_data/project/data/Original_Housing_Maintenance_Code_Complaints_and_Problems_20250430.csv\"\n",
        "# fire_address_path=\"/content/drive/My Drive/big_data/project/data/new_output_fire_address_detail.csv\"\n",
        "\n",
        "original_housing_df=spark.read.option(\"header\",True).csv(housing_path)\n",
        "fire_df=spark.read.option(\"header\",True).csv(fire_address_path)"
      ]
    },
    {
      "cell_type": "code",
      "execution_count": null,
      "metadata": {
        "colab": {
          "base_uri": "https://localhost:8080/"
        },
        "id": "Rg-DaPEAT8oj",
        "outputId": "493567b5-3727-4088-c957-a15cddaf199e"
      },
      "outputs": [
        {
          "name": "stdout",
          "output_type": "stream",
          "text": [
            "+--------------------+-----------------------+------------+-----------------+------------+---------+----------+\n",
            "|   incident_datetime|incident_classification|borough_code|        address_1|   address_2| latitude| longitude|\n",
            "+--------------------+-----------------------+------------+-----------------+------------+---------+----------+\n",
            "|07/25/2019 07:07:...|   Private Dwelling ...|           5|       WOODROW RD|HEFFERNAN ST|40.562769|-74.180866|\n",
            "|07/25/2019 09:07:...|   Multiple Dwelling...|           4|         28TH AVE|     23RD ST|40.770513|-73.925459|\n",
            "|07/25/2019 09:22:...|   Private Dwelling ...|           4|          120 AVE|      231 ST|40.687303| -73.73309|\n",
            "|07/25/2019 09:27:...|   Multiple Dwelling...|           1|            9 AVE|       46 ST|40.760993|-73.990759|\n",
            "|07/25/2019 09:41:...|   Private Dwelling ...|           4|        DORAN AVE|       89 ST|40.710427|-73.862179|\n",
            "|07/25/2019 10:38:...|   Private Dwelling ...|           4|JUNIPER VALLEY RD|       73 PL|40.715053|-73.881151|\n",
            "|07/25/2019 10:40:...|   Private Dwelling ...|           4|          160 AVE|       81 ST|40.655885|-73.850719|\n",
            "|07/25/2019 10:43:...|   Private Dwelling ...|           4|          146 AVE|      222 ST|40.661069|-73.758213|\n",
            "|07/25/2019 10:58:...|   Multiple Dwelling...|           3|            4 AVE|       92 ST|40.618341|-74.030174|\n",
            "|07/25/2019 11:07:...|   Private Dwelling ...|           3|         AVENUE L|     E 89 ST|40.634818|-73.901265|\n",
            "|07/25/2019 11:46:...|   Multiple Dwelling...|           3|     NOSTRAND AVE| FARRAGUT RD|40.636268|-73.948016|\n",
            "|07/25/2019 12:22:...|   Multiple Dwelling...|           4|   GREENPOINT AVE| BRADLEY AVE|40.735553|-73.934779|\n",
            "|07/25/2019 01:40:...|   Multiple Dwelling...|           2|         ADEE AVE|   BX PARK E|40.869675|-73.870538|\n",
            "|07/25/2019 03:22:...|   Multiple Dwelling...|           2|      FINDLAY AVE|      168 ST|40.833119|-73.912144|\n",
            "|07/25/2019 05:46:...|   Private Dwelling ...|           3|         AVENUE O|     E 52 ST|40.616734|-73.924694|\n",
            "|07/25/2019 07:32:...|   Multiple Dwelling...|           3|         LENOX RD|     E 94 ST|40.657939|-73.920661|\n",
            "|07/25/2019 07:46:...|   Private Dwelling ...|           5|     FARRAGUT AVE|   ADA DRIVE|40.621619|-74.164985|\n",
            "|07/25/2019 08:38:...|   Multiple Dwelling...|           2|       NELSON AVE|    W 168 ST|40.838362|-73.924917|\n",
            "|07/25/2019 10:08:...|   Multiple Dwelling...|           1|            9 AVE|     W 18 ST|40.743449| -74.00354|\n",
            "|07/25/2019 10:23:...|   Private Dwelling ...|           4|           50 AVE|       47 ST|40.737357| -73.91891|\n",
            "+--------------------+-----------------------+------------+-----------------+------------+---------+----------+\n",
            "only showing top 20 rows\n",
            "\n",
            "+-------------+----------+------------+-----------+---------+------------+----------------+---------+-----+---+---------+---------------+-------------+----------------+-------------+---------------+--------------------+--------------------+----------------+---------------------+--------------+-------------------+--------------------+----------------------+------------------------+----------+------------------+-------------------+----------------+------------+-------+----------+--------------------+\n",
            "|Received Date|Problem ID|Complaint ID|Building ID|  Borough|House Number|     Street Name|Post Code|Block|Lot|Apartment|Community Board|    Unit Type|      Space Type|         Type| Major Category|      Minor Category|        Problem Code|Complaint Status|Complaint Status Date|Problem Status|Problem Status Date|  Status Description|Problem Duplicate Flag|Complaint Anonymous Flag|Unique Key|          Latitude|          Longitude|Council District|Census Tract|    BIN|       BBL|                 NTA|\n",
            "+-------------+----------+------------+-----------+---------+------------+----------------+---------+-----+---+---------+---------------+-------------+----------------+-------------+---------------+--------------------+--------------------+----------------+---------------------+--------------+-------------------+--------------------+----------------------+------------------------+----------+------------------+-------------------+----------------+------------+-------+----------+--------------------+\n",
            "|   01/03/2018|  18168892|     8852631|     374378| BROOKLYN|        1248| ST MARKS AVENUE|    11213| 1361| 43|       1H|              8|    APARTMENT|ENTIRE APARTMENT|    EMERGENCY| HEAT/HOT WATER|      APARTMENT ONLY|             NO HEAT|           CLOSE|           01/08/2018|         CLOSE|         01/08/2018|The Department of...|                     N|                       N|  38098320|40.674022999999998|-73.928471999999999|              36|         347|3036097|3013610043|Crown Heights (No...|\n",
            "|   01/08/2017|  17172242|     8340683|    1012317|    BRONX|        2170| PROSPECT AVENUE|    10457| 3110| 54|     BLDG|              6|BUILDING-WIDE|   BUILDING-WIDE|    EMERGENCY| HEAT/HOT WATER|     ENTIRE BUILDING|NO HEAT AND NO HO...|           CLOSE|           01/13/2017|         CLOSE|         01/13/2017|The Department of...|                     N|                       Y|  35196238|         40.848554|-73.885430999999997|              15|         371|2128907|2031100054|             Tremont|\n",
            "|   01/26/2018|  18275372|     8921612|     313392| BROOKLYN|        2750|HOMECREST AVENUE|    11235| 8764| 10|     BLDG|             15|BUILDING-WIDE|   BUILDING-WIDE|    EMERGENCY| HEAT/HOT WATER|     ENTIRE BUILDING|             NO HEAT|           CLOSE|           01/27/2018|         CLOSE|         01/27/2018|More than one com...|                     Y|                       Y|  38316594|40.584297999999997|-73.956289999999996|              48|         608|3246945|3087640010|Sheepshead Bay-Ma...|\n",
            "|   11/01/2017|  17899006|     8668675|      60670|    BRONX|         889|   DAWSON STREET|    10459| 2697|  1|     BLDG|              2|BUILDING-WIDE|   BUILDING-WIDE|    EMERGENCY| HEAT/HOT WATER|     ENTIRE BUILDING|             NO HEAT|           CLOSE|           11/07/2017|         CLOSE|         11/06/2017|More than one com...|                     Y|                       Y|  37580415|40.819769999999998|-73.897623999999993|              17|          87|2005352|2026970001|            Longwood|\n",
            "|   11/01/2017|  17902810|     8670928|      19518|MANHATTAN|         163| EAST 115 STREET|    10029| 1643| 25|      GF3|             11|    APARTMENT|  ENTRANCE/FOYER|    EMERGENCY|    DOOR/WINDOW|                DOOR|    NOT SELF-CLOSING|           CLOSE|           11/22/2017|         CLOSE|         11/21/2017|The Department of...|                     N|                       N|  37584238|40.797688999999998|-73.941501000000002|               8|         182|1052243|1016430025| East Harlem (North)|\n",
            "|   11/01/2017|  17902812|     8670928|      19518|MANHATTAN|         163| EAST 115 STREET|    10029| 1643| 25|      GF3|             11|    APARTMENT|        BATHROOM|NON EMERGENCY|       PLUMBING|        WATER SUPPLY|  LOW WATER PRESSURE|           CLOSE|           11/22/2017|         CLOSE|         11/21/2017|The Department of...|                     N|                       N|  37580501|40.797688999999998|-73.941501000000002|               8|         182|1052243|1016430025| East Harlem (North)|\n",
            "|   11/01/2017|  17902813|     8670928|      19518|MANHATTAN|         163| EAST 115 STREET|    10029| 1643| 25|      GF3|             11|    APARTMENT|  ENTRANCE/FOYER|NON EMERGENCY|       ELECTRIC|            LIGHTING|    DIMS OR FLICKERS|           CLOSE|           11/22/2017|         CLOSE|         11/21/2017|The Department of...|                     N|                       N|  37585369|40.797688999999998|-73.941501000000002|               8|         182|1052243|1016430025| East Harlem (North)|\n",
            "|   11/01/2017|  17902814|     8670928|      19518|MANHATTAN|         163| EAST 115 STREET|    10029| 1643| 25|      GF3|             11|    APARTMENT|         BEDROOM|    EMERGENCY|         SAFETY|         FIRE ESCAPE|WINDOW BROKEN OR ...|           CLOSE|           11/22/2017|         CLOSE|         11/21/2017|The Department of...|                     N|                       N|  37584398|40.797688999999998|-73.941501000000002|               8|         182|1052243|1016430025| East Harlem (North)|\n",
            "|   11/01/2017|  17902815|     8670928|      19518|MANHATTAN|         163| EAST 115 STREET|    10029| 1643| 25|      GF3|             11|    APARTMENT|  ENTRANCE/FOYER|NON EMERGENCY|        GENERAL|BELL/BUZZER/INTERCOM|   BROKEN OR MISSING|           CLOSE|           11/22/2017|         CLOSE|         11/21/2017|The Department of...|                     N|                       N|  37576583|40.797688999999998|-73.941501000000002|               8|         182|1052243|1016430025| East Harlem (North)|\n",
            "|   11/01/2017|  17902816|     8670928|      19518|MANHATTAN|         163| EAST 115 STREET|    10029| 1643| 25|      GF3|             11|    APARTMENT|        BATHROOM|NON EMERGENCY|        GENERAL|  VENTILATION SYSTEM|   BROKEN OR MISSING|           CLOSE|           11/22/2017|         CLOSE|         11/21/2017|The Department of...|                     N|                       N|  37576599|40.797688999999998|-73.941501000000002|               8|         182|1052243|1016430025| East Harlem (North)|\n",
            "|   11/01/2017|  17902817|     8670928|      19518|MANHATTAN|         163| EAST 115 STREET|    10029| 1643| 25|      GF3|             11|    APARTMENT|         KITCHEN|NON EMERGENCY|        GENERAL|  VENTILATION SYSTEM|   BROKEN OR MISSING|           CLOSE|           11/22/2017|         CLOSE|         11/21/2017|The Department of...|                     N|                       N|  37580280|40.797688999999998|-73.941501000000002|               8|         182|1052243|1016430025| East Harlem (North)|\n",
            "|   11/01/2017|  17902827|     8670931|     228367| BROOKLYN|         250|    CROWN STREET|    11225| 1296| 28|       4C|              9|    APARTMENT|        BATHROOM|    EMERGENCY|       PLUMBING|        WATER SUPPLY|            NO WATER|           CLOSE|           11/22/2017|         CLOSE|         11/21/2017|The Department of...|                     N|                       N|  37579372|40.666344000000002|-73.952019000000007|              35|         321|3034162|3012960028|Crown Heights (So...|\n",
            "|   11/01/2017|  17902828|     8670931|     228367| BROOKLYN|         250|    CROWN STREET|    11225| 1296| 28|       4C|              9|    APARTMENT|ENTIRE APARTMENT|    EMERGENCY| HEAT/HOT WATER|      APARTMENT ONLY|NO HEAT AND NO HO...|           CLOSE|           11/22/2017|         CLOSE|         11/06/2017|More than one com...|                     Y|                       N|  37577910|40.666344000000002|-73.952019000000007|              35|         321|3034162|3012960028|Crown Heights (So...|\n",
            "|   11/09/2017|  17932844|     8690305|     107569|    BRONX|         540| ROSEDALE AVENUE|    10473| 3519| 20|      J25|              9|BUILDING-WIDE|   BUILDING-WIDE|    EMERGENCY| HEAT/HOT WATER|     ENTIRE BUILDING|             NO HEAT|           CLOSE|           11/15/2017|         CLOSE|         11/15/2017|More than one com...|                     Y|                       N|  37671761|40.815274000000002|-73.865380000000002|              18|        2002|2021307|2035190020|Soundview-Clason ...|\n",
            "|   11/09/2017|  17932882|     8690319|      25114|MANHATTAN|          77|  MADISON STREET|    10002|  277|  2|        1|              3|BUILDING-WIDE|   BUILDING-WIDE|    EMERGENCY| HEAT/HOT WATER|     ENTIRE BUILDING|             NO HEAT|           CLOSE|           11/14/2017|         CLOSE|         11/13/2017|More than one com...|                     Y|                       N|  37673370|         40.712142|-73.996258999999995|               1|           8|1003329|1002770002|Chinatown-Two Bri...|\n",
            "|   11/09/2017|  17932886|     8690321|      81875|    BRONX|        2791| GRAND CONCOURSE|    10468| 3315| 94|      406|              7|    APARTMENT|ENTIRE APARTMENT|    EMERGENCY| HEAT/HOT WATER|      APARTMENT ONLY|NO HEAT AND NO HO...|           CLOSE|           11/17/2017|         CLOSE|         11/17/2017|The Department of...|                     N|                       N|  37666461|40.869005000000001|-73.892156999999997|              14|       40303|2017466|2033150094|        Bedford Park|\n",
            "|   02/10/2018|  18321828|     8946291|     676694|   QUEENS|       60-30|  MADISON STREET|    11385| 3530| 19|       E3|              5|    APARTMENT|ENTIRE APARTMENT|    EMERGENCY| HEAT/HOT WATER|      APARTMENT ONLY|             NO HEAT|           CLOSE|           02/13/2018|         CLOSE|         02/12/2018|The Department of...|                     N|                       N|  38435131|40.706617000000001|-73.899161000000007|              30|         587|4084960|4035300019|           Ridgewood|\n",
            "|   04/15/2024|  25489444|    12938347|     421564|   QUEENS|      139-09|         34 ROAD|    11354| 4957| 23|      D11|              7|    APARTMENT|        BATHROOM|    EMERGENCY|FLOORING/STAIRS|               FLOOR|  SAGGING OR SLOPING|           CLOSE|           04/28/2024|         CLOSE|         04/27/2024|The Department of...|                     N|                       N|  60864594|40.766382999999998|-73.828796999999994|              20|       88902|4112107|4049570023|Flushing-Willets ...|\n",
            "|   04/17/2017|  17462433|     8492010|      45412|    BRONX|        1038| ANDERSON AVENUE|    10452| 2504| 94|        I|              4|    APARTMENT|     LIVING ROOM|    EMERGENCY|FLOORING/STAIRS|               FLOOR|HOLE IN WALKING AREA|           CLOSE|           04/22/2017|         CLOSE|         04/21/2017|The Department of...|                     N|                       N|  35965227|40.833167000000003|-73.926486999999995|               8|         193|2003052|2025040094|          Highbridge|\n",
            "|   10/28/2021|  21989604|    10889570|     967600|MANHATTAN|        2338|        2 AVENUE|    10035| 1796| 51|     BLDG|             11|  PUBLIC AREA|          STAIRS|    EMERGENCY|       ELECTRIC|         NO LIGHTING|    ONE ROOM OR AREA|           CLOSE|           05/19/2023|         CLOSE|         05/19/2023|The Department of...|                     N|                       Y|  52336874|40.799354999999998|-73.936044999999993|               8|         194|1090486|1017960051| East Harlem (North)|\n",
            "+-------------+----------+------------+-----------+---------+------------+----------------+---------+-----+---+---------+---------------+-------------+----------------+-------------+---------------+--------------------+--------------------+----------------+---------------------+--------------+-------------------+--------------------+----------------------+------------------------+----------+------------------+-------------------+----------------+------------+-------+----------+--------------------+\n",
            "only showing top 20 rows\n",
            "\n",
            "Total Fire: 184447\n",
            "Total Complaint: 15105731\n"
          ]
        }
      ],
      "source": [
        "fire_df.show()\n",
        "housing_row_count = original_housing_df.count()\n",
        "fire_row_count = fire_df.count()\n",
        "original_housing_df.show()\n",
        "print(f\"Total Fire: {fire_df.count()}\")\n",
        "print(f\"Total Complaint: {housing_row_count}\")"
      ]
    },
    {
      "cell_type": "code",
      "execution_count": null,
      "metadata": {
        "id": "1CsPSl477OPU"
      },
      "outputs": [],
      "source": [
        "# Time constants\n",
        "COMPLAINT_START_DATE = \"2015-01-01\"\n",
        "COMPLAINT_END_DATE = \"2025-2-28\"\n",
        "FIRE_START_DATE = \"2015-03-01\"\n",
        "FIRE_END_DATE = \"2025-04-30\"\n",
        "\n",
        "# Location constants\n",
        "LAT_LONG_GAP = 0.005 # Use 0.005 on complete data set\n",
        "LAT_LONG_GAP_INVERSE = int(1 / LAT_LONG_GAP)\n",
        "\n",
        "LAT_START = 40.490\n",
        "LAT_END = 40.920\n",
        "LONG_START = -74.270\n",
        "LONG_END = -73.680"
      ]
    },
    {
      "cell_type": "markdown",
      "metadata": {
        "id": "AVv1z-6j4jqJ"
      },
      "source": [
        "Complaint data marked by two months: bimonth_complaint_df"
      ]
    },
    {
      "cell_type": "code",
      "execution_count": null,
      "metadata": {
        "colab": {
          "base_uri": "https://localhost:8080/"
        },
        "id": "FcIru2ksglCk",
        "outputId": "608f090a-aaf6-4899-efb3-0c38c065c5fb"
      },
      "outputs": [
        {
          "name": "stdout",
          "output_type": "stream",
          "text": [
            "+-------------+--------------------+------------------+-------------------+-------------+\n",
            "|Received Date|        Problem Code|          Latitude|          Longitude|time_group_id|\n",
            "+-------------+--------------------+------------------+-------------------+-------------+\n",
            "|   2018-01-03|             NO HEAT|40.674022999999998|-73.928471999999999|       2018-1|\n",
            "|   2017-01-08|NO HEAT AND NO HO...|         40.848554|-73.885430999999997|       2017-1|\n",
            "|   2018-01-26|             NO HEAT|40.584297999999997|-73.956289999999996|       2018-1|\n",
            "|   2017-11-01|             NO HEAT|40.819769999999998|-73.897623999999993|       2018-0|\n",
            "|   2017-11-01|    NOT SELF-CLOSING|40.797688999999998|-73.941501000000002|       2018-0|\n",
            "|   2017-11-01|  LOW WATER PRESSURE|40.797688999999998|-73.941501000000002|       2018-0|\n",
            "|   2017-11-01|    DIMS OR FLICKERS|40.797688999999998|-73.941501000000002|       2018-0|\n",
            "|   2017-11-01|WINDOW BROKEN OR ...|40.797688999999998|-73.941501000000002|       2018-0|\n",
            "|   2017-11-01|   BROKEN OR MISSING|40.797688999999998|-73.941501000000002|       2018-0|\n",
            "|   2017-11-01|   BROKEN OR MISSING|40.797688999999998|-73.941501000000002|       2018-0|\n",
            "|   2017-11-01|   BROKEN OR MISSING|40.797688999999998|-73.941501000000002|       2018-0|\n",
            "|   2017-11-01|            NO WATER|40.666344000000002|-73.952019000000007|       2018-0|\n",
            "|   2017-11-01|NO HEAT AND NO HO...|40.666344000000002|-73.952019000000007|       2018-0|\n",
            "|   2017-11-09|             NO HEAT|40.815274000000002|-73.865380000000002|       2018-0|\n",
            "|   2017-11-09|             NO HEAT|         40.712142|-73.996258999999995|       2018-0|\n",
            "|   2017-11-09|NO HEAT AND NO HO...|40.869005000000001|-73.892156999999997|       2018-0|\n",
            "|   2018-02-10|             NO HEAT|40.706617000000001|-73.899161000000007|       2018-1|\n",
            "|   2018-02-27|   CHIPPED OR RUSTED|40.843114999999997|-73.881908999999993|       2018-1|\n",
            "|   2018-02-27|CHIPPED/PEELING/F...|40.843114999999997|-73.881908999999993|       2018-1|\n",
            "|   2017-12-30|  LOOSE OR DEFECTIVE|40.606231999999999|         -73.974553|       2018-0|\n",
            "+-------------+--------------------+------------------+-------------------+-------------+\n",
            "only showing top 20 rows\n",
            "\n"
          ]
        }
      ],
      "source": [
        "# Allow backward-compatible date/time parsing\n",
        "spark.conf.set(\"spark.sql.legacy.timeParserPolicy\", \"LEGACY\")\n",
        "\n",
        "# Filter for the housing complaint data\n",
        "housing_df = original_housing_df.dropna().withColumn(\"Received Date\", to_date(\"Received Date\", \"MM/dd/yyyy\"))\n",
        "housing_df = housing_df.filter(\n",
        "    (col(\"Received Date\") >= COMPLAINT_START_DATE) & (col(\"Received Date\") <= COMPLAINT_END_DATE)\n",
        ")\n",
        "housing_df = housing_df.select(\"Received Date\",\"Problem Code\",\"Latitude\",\"Longitude\")\n",
        "# Only keep Nov, Dec, Jan, Feb data\n",
        "housing_df = housing_df.filter(\n",
        "    month(\"Received Date\").isin(11, 12, 1, 2)\n",
        ")\n",
        "\n",
        "# Identify 2-month groups\n",
        "bimonth_complaint_df = housing_df.withColumn(\"time_group_id\",\n",
        "    when(month(\"Received Date\").isin(11, 12), concat_ws(\"-\", year(col(\"Received Date\"))+1, lit(\"0\"))) \\\n",
        "    .when(month(\"Received Date\").isin(1, 2), concat_ws(\"-\", year(col(\"Received Date\")), lit(\"1\")))\n",
        ")\n",
        "bimonth_complaint_df.show()"
      ]
    },
    {
      "cell_type": "markdown",
      "metadata": {
        "id": "QJFmJykd5UNy"
      },
      "source": [
        "Fire data marked by two months: bimonth_fire_df"
      ]
    },
    {
      "cell_type": "code",
      "execution_count": null,
      "metadata": {
        "colab": {
          "base_uri": "https://localhost:8080/"
        },
        "id": "P7OYW0zzr__S",
        "outputId": "91c8e0c4-7c4f-4e71-f497-f5140c6c4c2a"
      },
      "outputs": [
        {
          "name": "stdout",
          "output_type": "stream",
          "text": [
            "+-----------------+-----------------------+------------+----------------+------------+---------+----------+-------------+\n",
            "|INCIDENT_DATETIME|incident_classification|borough_code|       address_1|   address_2| latitude| longitude|time_group_id|\n",
            "+-----------------+-----------------------+------------+----------------+------------+---------+----------+-------------+\n",
            "|       2020-01-01|   Private Dwelling ...|           3|     ARKANSAS DR|  INDIANA PL|40.606182|-73.905186|       2020-0|\n",
            "|       2020-01-01|   Multiple Dwelling...|           1|        PARK AVE|       78 ST|40.774955| -73.96101|       2020-0|\n",
            "|       2020-01-01|   Multiple Dwelling...|           1| ST NICHOLAS AVE|    W 151 ST|40.828041|-73.942504|       2020-0|\n",
            "|       2020-01-01|   Multiple Dwelling...|           2|     COLLEGE AVE|      169 ST|40.835013|-73.912059|       2020-0|\n",
            "|       2020-01-01|   Multiple Dwelling...|           4|          57 AVE|       98 ST|40.737682|  -73.8623|       2020-0|\n",
            "|       2020-01-01|   Multiple Dwelling...|           4|SHORE FRONT PKWY|BEACH 100 ST|40.582467|-73.820221|       2020-0|\n",
            "|       2020-01-01|   Private Dwelling ...|           3|           6 AVE|       76 ST|40.627277|-74.020599|       2020-0|\n",
            "|       2020-01-01|   Private Dwelling ...|           3|        AVENUE N|      E 4 ST| 40.61437|-73.970955|       2020-0|\n",
            "|       2020-01-01|   Private Dwelling ...|           4|         119 AVE|      234 ST|40.688148|-73.729625|       2020-0|\n",
            "|       2020-01-01|   Private Dwelling ...|           3|          16 AVE|       60 ST|40.624855|-73.991945|       2020-0|\n",
            "|       2020-01-01|   Multiple Dwelling...|           2|      FOREST AVE|      161 ST|40.821371|-73.904898|       2020-0|\n",
            "|       2020-01-01|   Multiple Dwelling...|           4|          37 AVE|       85 ST|40.750041|-73.881518|       2020-0|\n",
            "|       2020-01-01|   Multiple Dwelling...|           3|      ALBANY AVE| WINTHROP ST|40.657769|-73.939616|       2020-0|\n",
            "|       2020-01-01|   Multiple Dwelling...|           3|       GRAND AVE|  CLIFTON PL| 40.68782|-73.962694|       2020-0|\n",
            "|       2020-01-01|   Private Dwelling ...|           3|        AVENUE Y|  OCEAN PWAY|40.588888|-73.965641|       2020-0|\n",
            "|       2020-01-02|   Private Dwelling ...|           2|   WATERBURY AVE|VREELAND AVE|40.835574|-73.837234|       2020-0|\n",
            "|       2020-01-02|   Private Dwelling ...|           3|    BROOKLYN AVE| EMPIRE BLVD|40.664228|-73.945464|       2020-0|\n",
            "|       2020-01-02|   Multiple Dwelling...|           3|      MYRTLE AVE|  THROOP AVE| 40.69603|-73.943526|       2020-0|\n",
            "|       2020-01-02|   Private Dwelling ...|           2|        MACE AVE| LACONIA AVE|40.862999|-73.855858|       2020-0|\n",
            "|       2020-01-02|   Private Dwelling ...|           2|      BARNES AVE|      215 ST|40.879817|-73.861481|       2020-0|\n",
            "+-----------------+-----------------------+------------+----------------+------------+---------+----------+-------------+\n",
            "only showing top 20 rows\n",
            "\n"
          ]
        }
      ],
      "source": [
        "fire_detail_df= fire_df.dropna().withColumn(\"INCIDENT_DATETIME\", to_date(\"INCIDENT_DATETIME\", \"MM/dd/yyyy HH:mm:ss\"))\n",
        "\n",
        "fire_detail_df = fire_detail_df.filter(\n",
        "    (col(\"INCIDENT_DATETIME\") >= FIRE_START_DATE) & (col(\"INCIDENT_DATETIME\") <= FIRE_END_DATE)\n",
        ")\n",
        "\n",
        "# Only keep Jan, Feb, Mar, Apr data\n",
        "fire_detail_df =fire_detail_df.filter(\n",
        "    month(\"INCIDENT_DATETIME\").isin(1, 2, 3, 4)\n",
        ")\n",
        "\n",
        "# Identify 2-month groups\n",
        "bimonth_fire_df = fire_detail_df.withColumn(\"time_group_id\",\n",
        "    when(month(\"INCIDENT_DATETIME\").isin(1, 2), concat_ws(\"-\", year(col(\"INCIDENT_DATETIME\")), lit(\"0\"))) \\\n",
        "    .when(month(\"INCIDENT_DATETIME\").isin(3, 4), concat_ws(\"-\", year(col(\"INCIDENT_DATETIME\")), lit(\"1\")))\n",
        ")\n",
        "bimonth_fire_df.show()"
      ]
    },
    {
      "cell_type": "markdown",
      "metadata": {
        "id": "kBSTFYBBWW2X"
      },
      "source": [
        "# Part 3: Aggregate Features Per Region-Time\n",
        "**Group By Region-Time**\n",
        "time_group_id:\n",
        "* `yyyy-0` for complaints in Nov, Dec year yyyy+1 and fires in Jan, Feb year yyyy (Note that yyyy+1 is to match Jan and Feb from next year)\n",
        "* `yyyy-1` for complaints in Jan, Feb year yyyy and fires in Mar, Apr year yyyy\n",
        "\n",
        "**Filter the problem Code:**\n",
        "  - \"NO HEAT AND NO HOT WATER\"  \n",
        "  - \"NO HEAT\"\n",
        "\n",
        "**Calculating the fire count and complaint count base on the same coordiante and time_id**"
      ]
    },
    {
      "cell_type": "code",
      "execution_count": null,
      "metadata": {
        "colab": {
          "base_uri": "https://localhost:8080/"
        },
        "id": "6YhO7VVsHeoE",
        "outputId": "769d878f-9f48-43b7-c8d3-9e09200ba04e"
      },
      "outputs": [
        {
          "name": "stdout",
          "output_type": "stream",
          "text": [
            "+--------+---------+-------------+----------+\n",
            "|latitude|longitude|time_group_id|fire_count|\n",
            "+--------+---------+-------------+----------+\n",
            "|   40.69|  -73.745|       2020-0|         2|\n",
            "|   40.83|  -73.915|       2020-0|         2|\n",
            "|   40.79|  -73.975|       2020-0|         2|\n",
            "|   40.55|   -74.14|       2020-0|         1|\n",
            "|  40.705|  -73.745|       2020-0|         1|\n",
            "|  40.825|   -73.89|       2020-1|         2|\n",
            "|  40.755|    -73.8|       2020-1|         1|\n",
            "|   40.62|  -73.945|       2020-1|         3|\n",
            "|   40.61|  -73.915|       2020-1|         1|\n",
            "|   40.69|   -73.93|       2020-1|         1|\n",
            "|  40.855|   -73.91|       2017-0|         4|\n",
            "|   40.69|   -73.87|       2017-0|         2|\n",
            "|   40.68|   -73.81|       2017-0|         2|\n",
            "|   40.67|  -73.805|       2017-1|         1|\n",
            "|  40.765|  -73.955|       2017-1|         2|\n",
            "|   40.72|  -73.735|       2017-1|         2|\n",
            "|  40.585|  -73.945|       2017-1|         1|\n",
            "|  40.695|   -73.94|       2017-1|         1|\n",
            "|   40.64|   -73.99|       2019-0|         3|\n",
            "|   40.64|  -73.985|       2019-0|         1|\n",
            "+--------+---------+-------------+----------+\n",
            "only showing top 20 rows\n",
            "\n",
            "20977\n"
          ]
        }
      ],
      "source": [
        "# Each lat-long block is marked based on bottomleft point\n",
        "\n",
        "# fire data: grouped_fire_df\n",
        "grouped_fire_df = bimonth_fire_df.withColumn(\n",
        "      \"latitude\",\n",
        "      floor(col(\"latitude\") * LAT_LONG_GAP_INVERSE) / LAT_LONG_GAP_INVERSE\n",
        "  ).withColumn(\n",
        "      \"longitude\",\n",
        "      floor(col(\"longitude\") * LAT_LONG_GAP_INVERSE) / LAT_LONG_GAP_INVERSE\n",
        "  ).groupBy(\"latitude\", \"longitude\", \"time_group_id\").agg(count(\"*\").alias(\"fire_count\"))\n",
        "grouped_fire_df.show()\n",
        "print(grouped_fire_df.count())"
      ]
    },
    {
      "cell_type": "code",
      "execution_count": null,
      "metadata": {
        "colab": {
          "base_uri": "https://localhost:8080/"
        },
        "id": "e_9wfY1CCVm5",
        "outputId": "e4feb6c2-2fd3-4499-bd1e-b5ee6444c08c"
      },
      "outputs": [
        {
          "name": "stdout",
          "output_type": "stream",
          "text": [
            "44177\n",
            "+--------+---------+-------------+---------------+------------------------+-------------------+\n",
            "|latitude|longitude|time_group_id|complaint_count|filtered_complaint_count|filtered_percentage|\n",
            "+--------+---------+-------------+---------------+------------------------+-------------------+\n",
            "|   40.63|  -74.035|       2024-0|            158|                     128|              81.01|\n",
            "|   40.83|   -73.92|       2023-1|            496|                     220|              44.35|\n",
            "|   40.88|   -73.84|       2023-1|             34|                      12|              35.29|\n",
            "|   40.66|  -73.965|       2024-1|            205|                      61|              29.76|\n",
            "|   40.79|  -73.945|       2023-1|            139|                      48|              34.53|\n",
            "|  40.595|  -74.005|       2024-1|            123|                      79|              64.23|\n",
            "|    40.7|   -73.93|       2023-1|            145|                      50|              34.48|\n",
            "|   40.82|  -73.865|       2024-0|            112|                      58|              51.79|\n",
            "|   40.85|   -73.94|       2023-0|            390|                     303|              77.69|\n",
            "|  40.835|  -73.945|       2024-0|            517|                     270|              52.22|\n",
            "|  40.815|  -73.945|       2024-1|            676|                     259|              38.31|\n",
            "|   40.65|   -73.96|       2024-1|            527|                     268|              50.85|\n",
            "|   40.76|  -73.815|       2024-0|             14|                      10|              71.43|\n",
            "|   40.82|   -73.93|       2024-0|            330|                     250|              75.76|\n",
            "|  40.695|   -73.95|       2023-0|             33|                      10|               30.3|\n",
            "|   40.68|   -73.98|       2024-0|             43|                      21|              48.84|\n",
            "|  40.705|  -73.915|       2023-1|            165|                     115|               69.7|\n",
            "|   40.85|  -73.895|       2024-1|            224|                      80|              35.71|\n",
            "|   40.77|  -73.925|       2019-1|             76|                      38|               50.0|\n",
            "|  40.755|    -74.0|       2024-1|             41|                      21|              51.22|\n",
            "+--------+---------+-------------+---------------+------------------------+-------------------+\n",
            "only showing top 20 rows\n",
            "\n"
          ]
        }
      ],
      "source": [
        "from pyspark.sql.functions import sum as spark_sum\n",
        "\n",
        "# Round latitude and longitude\n",
        "complaint_df = bimonth_complaint_df.withColumn(\n",
        "    \"latitude\", floor(col(\"latitude\") * LAT_LONG_GAP_INVERSE) / LAT_LONG_GAP_INVERSE\n",
        ").withColumn(\n",
        "    \"longitude\", floor(col(\"longitude\") * LAT_LONG_GAP_INVERSE) / LAT_LONG_GAP_INVERSE\n",
        ")\n",
        "\n",
        "# Group and aggregate counts\n",
        "grouped_complaint_df = complaint_df.groupBy(\n",
        "    \"latitude\", \"longitude\", \"time_group_id\"\n",
        ").agg(\n",
        "    count(\"*\").alias(\"complaint_count\"),\n",
        "    spark_sum(\n",
        "        when(\n",
        "            (col(\"Problem Code\") == \"NO HEAT AND NO HOT WATER\") |\n",
        "            (col(\"Problem Code\") == \"NO HEAT\"),\n",
        "            1\n",
        "        ).otherwise(0)\n",
        "    ).alias(\"filtered_complaint_count\")\n",
        ")\n",
        "\n",
        "# Calculate percentage of filtered complaints over total\n",
        "final_complaint_df = grouped_complaint_df.withColumn(\n",
        "    \"filtered_percentage\",\n",
        "    round((col(\"filtered_complaint_count\") / col(\"complaint_count\")) * 100, 2)\n",
        ")\n",
        "print(final_complaint_df.count())\n",
        "final_complaint_df.show()"
      ]
    },
    {
      "cell_type": "markdown",
      "metadata": {
        "id": "jRDt4v8234KE"
      },
      "source": [
        "## Join Fire & Complaint Tables\n",
        "\n",
        "Use Nov, Dec complaint data to match next year Jan, Feb fire data \\\n",
        "Use Jan, Feb complaint data to match Mar, Apr fire data"
      ]
    },
    {
      "cell_type": "code",
      "execution_count": null,
      "metadata": {
        "colab": {
          "base_uri": "https://localhost:8080/"
        },
        "id": "INa5XeqxtoHR",
        "outputId": "43703924-cbb7-4660-bc95-ccd32a960e63"
      },
      "outputs": [
        {
          "name": "stdout",
          "output_type": "stream",
          "text": [
            "44177\n"
          ]
        }
      ],
      "source": [
        "# Perform the join\n",
        "combine_df = final_complaint_df.join(\n",
        "    grouped_fire_df,\n",
        "    on=[\"latitude\", \"longitude\", \"time_group_id\"],\n",
        "    how=\"left\"  # use left join to keep all complaint records even if no fire record\n",
        ")\n",
        "\n",
        "# Fill in 0 for fire_count if there’s no match\n",
        "combine_df = combine_df.fillna({\"fire_count\": 0})\n",
        "\n",
        "print(combine_df.count())\n",
        "combine_df.show()"
      ]
    },
    {
      "cell_type": "markdown",
      "metadata": {
        "id": "4XWvvHQ-6Mst"
      },
      "source": [
        "## Create region_id"
      ]
    },
    {
      "cell_type": "code",
      "execution_count": null,
      "metadata": {
        "id": "xtTDgPwF5Z_p"
      },
      "outputs": [],
      "source": [
        "combine_df = combine_df.withColumn(\n",
        "    \"region_id\",\n",
        "    concat_ws(\"_\", col(\"latitude\"), col(\"longitude\"))\n",
        ")\n",
        "\n",
        "combine_df.show()"
      ]
    },
    {
      "cell_type": "code",
      "execution_count": null,
      "metadata": {
        "id": "ghzIl6pB5r6P"
      },
      "outputs": [],
      "source": [
        "# Count the number of unique regions\n",
        "region_count = combine_df.select(\"region_id\").distinct().count()\n",
        "print(f\"Number of unique regions: {region_count}\")"
      ]
    },
    {
      "cell_type": "markdown",
      "metadata": {
        "id": "z608zPt6Q_px"
      },
      "source": [
        "# Part 4: Data Visualizations"
      ]
    },
    {
      "cell_type": "markdown",
      "metadata": {
        "id": "vxses-QNwoMw"
      },
      "source": [
        "We are setting HighF as ≥2 fires because the 75th percentile of fire counts is 1.0, meaning only the top ~25% of region-windows have 2 or more fires—this focuses the analysis on areas with elevated and repeated fire risk, not just isolated incidents."
      ]
    },
    {
      "cell_type": "markdown",
      "metadata": {
        "id": "X5KUxLFVWeWu"
      },
      "source": [
        "### Bar plots"
      ]
    },
    {
      "cell_type": "code",
      "execution_count": null,
      "metadata": {
        "id": "9jzP8JJJymDE"
      },
      "outputs": [],
      "source": [
        "# # # STEP 1️⃣: Add 'quadrant' column in Spark\n",
        "# # combine_df = combine_df.withColumn(\n",
        "# #     \"quadrant\",\n",
        "# #     when((col('High_C') & col('High_F')), 'High_C to High_F')  # Hypothesis\n",
        "# #     .when((col('High_C') & (~col('High_F'))), 'High_C to Low_F')  # Null\n",
        "# #     .when((~col('High_C') & col('High_F')), 'Low_C to High_F')  # Unexpected\n",
        "# #     .otherwise('Low_C to Low_F')  # Unremarkable\n",
        "# # )\n",
        "\n",
        "# # STEP 2️⃣: Group + count quadrants in Spark\n",
        "# quadrant_counts_df = combine_df.groupBy('quadrant').count()\n",
        "\n",
        "# # STEP 3️⃣: Pull into Pandas (small result)\n",
        "# quadrant_counts_pd = quadrant_counts_df.toPandas()\n",
        "\n",
        "# # Define desired order (logical top-down order)\n",
        "# order = ['High_C to High_F', 'High_C to Low_F', 'Low_C to High_F', 'Low_C to Low_F']\n",
        "# quadrant_counts_pd = quadrant_counts_pd.set_index('quadrant').reindex(order).reset_index()\n",
        "\n",
        "# # Reverse the DataFrame to plot top-down in correct order\n",
        "# quadrant_counts_pd = quadrant_counts_pd.iloc[::-1]\n",
        "\n",
        "# # STEP 4️⃣: Plot with counts + percentages (HORIZONTAL BARS)\n",
        "# total = quadrant_counts_pd['count'].sum()\n",
        "# colors = ['gray', 'yellow', 'red', 'green']  # reversed order to match reversed DataFrame\n",
        "\n",
        "# plt.figure(figsize=(10, 6))\n",
        "# bars = plt.barh(quadrant_counts_pd['quadrant'], quadrant_counts_pd['count'], color=colors)\n",
        "\n",
        "# # Add count + percent labels at the end of each bar\n",
        "# for bar, count in zip(bars, quadrant_counts_pd['count']):\n",
        "#     width = bar.get_width()\n",
        "#     percent = (count / total) * 100\n",
        "#     plt.text(\n",
        "#         width + 200,  # shift to the right\n",
        "#         bar.get_y() + bar.get_height() / 2,\n",
        "#         f'{count} ({percent:.1f}%)',\n",
        "#         ha='left',\n",
        "#         va='center',\n",
        "#         fontsize=10\n",
        "#     )\n",
        "\n",
        "# plt.xlabel(\"Count\")\n",
        "# plt.ylabel(\"Quadrant\")\n",
        "# plt.title(\"Quadrant Bar Chart: Heating Complaints vs Fire Risk\")\n",
        "# plt.tight_layout()\n",
        "# plt.show()"
      ]
    },
    {
      "cell_type": "code",
      "execution_count": null,
      "metadata": {
        "id": "b_7-cPnN3jmf"
      },
      "outputs": [],
      "source": [
        "# # STEP 1️⃣: Add 'quadrant' column in Spark\n",
        "# aggregated_df = aggregated_df.withColumn(\n",
        "#     \"quadrant\",\n",
        "#     when((col('High_C') & col('High_F')), 'High_C to High_F')  # Hypothesis\n",
        "#     .when((col('High_C') & (~col('High_F'))), 'High_C to Low_F')  # Null\n",
        "#     .when((~col('High_C') & col('High_F')), 'Low_C to High_F')  # Unexpected\n",
        "#     .otherwise('Low_C to Low_F')  # Unremarkable\n",
        "# )\n",
        "\n",
        "# # STEP 2️⃣: Group + count quadrants in Spark\n",
        "# quadrant_counts_df = aggregated_df.groupBy('quadrant').count()\n",
        "\n",
        "# # STEP 3️⃣: Pull into Pandas (small result)\n",
        "# quadrant_counts_pd = quadrant_counts_df.toPandas()"
      ]
    },
    {
      "cell_type": "code",
      "execution_count": null,
      "metadata": {
        "id": "tnmrkPmTzIDE"
      },
      "outputs": [],
      "source": [
        "# # Define desired order (logical top-down order)\n",
        "# order = ['High_C to High_F', 'High_C to Low_F', 'Low_C to High_F', 'Low_C to Low_F']\n",
        "# quadrant_counts_pd = quadrant_counts_pd.set_index('quadrant').reindex(order).reset_index()\n",
        "\n",
        "# # Reverse the DataFrame to plot top-down in correct order\n",
        "# quadrant_counts_pd = quadrant_counts_pd.iloc[::-1]\n",
        "\n",
        "# # STEP 4️⃣: Plot with counts + percentages (HORIZONTAL BARS)\n",
        "# total = quadrant_counts_pd['count'].sum()\n",
        "# colors = ['gray', 'yellow', 'red', 'green']  # reversed order to match reversed DataFrame\n",
        "\n",
        "# plt.figure(figsize=(10, 6))\n",
        "# bars = plt.barh(quadrant_counts_pd['quadrant'], quadrant_counts_pd['count'], color=colors)\n",
        "\n",
        "\n",
        "# # Larger labels\n",
        "# plt.xlabel(\"Count\", fontsize=12)\n",
        "# plt.ylabel(\"Quadrant\", fontsize=12)\n",
        "# plt.title(\"Quadrant Bar Chart: Heating Complaints vs Fire Risk (>= 1)\", fontsize=14)\n",
        "\n",
        "# # Add count + percent labels at the end of each bar (increase font size)\n",
        "# for bar, count in zip(bars, quadrant_counts_pd['count']):\n",
        "#     width = bar.get_width()\n",
        "#     percent = (count / total) * 100\n",
        "#     plt.text(\n",
        "#         width + 200,\n",
        "#         bar.get_y() + bar.get_height() / 2,\n",
        "#         f'{count} ({percent:.1f}%)',\n",
        "#         ha='left',\n",
        "#         va='center',\n",
        "#         fontsize=11  # bigger text\n",
        "#     )\n",
        "\n",
        "# plt.tight_layout()\n",
        "# plt.show()"
      ]
    },
    {
      "cell_type": "markdown",
      "metadata": {
        "id": "WD-vFuEg-59V"
      },
      "source": [
        "### Scatter plots for complaint_count vs fire_count with two-month window and 5 years data"
      ]
    },
    {
      "cell_type": "code",
      "execution_count": null,
      "metadata": {
        "id": "WYO_nRH-741Z"
      },
      "outputs": [],
      "source": [
        "# # Convert Spark DataFrame to Pandas (already aggregated)\n",
        "# pandas_df = aggregated_df.toPandas()\n",
        "\n",
        "# # Optional: filter out rows with zero fire & complaint counts\n",
        "# pandas_df = pandas_df[\n",
        "#     (pandas_df['sum(fire_count)'] > 0) | (pandas_df['sum(complaint_count)'] > 0)\n",
        "# ]\n",
        "\n",
        "# # Create scatter plot\n",
        "# plt.figure(figsize=(10, 6))\n",
        "# plt.scatter(\n",
        "#     pandas_df['sum(complaint_count)'],\n",
        "#     pandas_df['sum(fire_count)'],\n",
        "#     alpha=0.5,\n",
        "#     s=10\n",
        "# )\n",
        "# plt.xlabel('Total Complaint Count (per Region-Time)')\n",
        "# plt.ylabel('Total Fire Count (per Region-Time)')\n",
        "# plt.title('Scatter Plot: Complaint Counts VS Fire Counts per Region/Time Slot')\n",
        "# plt.grid(True)\n",
        "# plt.show()"
      ]
    },
    {
      "cell_type": "code",
      "execution_count": null,
      "metadata": {
        "id": "Ir_flN8H8UvV"
      },
      "outputs": [],
      "source": [
        "# # X and Y data\n",
        "# x = pandas_df['sum(complaint_count)']\n",
        "# y = pandas_df['sum(fire_count)']\n",
        "\n",
        "# # Scatter plot\n",
        "# plt.figure(figsize=(10, 6))\n",
        "# plt.scatter(x, y, alpha=0.5, s=10, label='Data Points')\n",
        "\n",
        "# # Fit linear regression (1st-degree polynomial)\n",
        "# slope, intercept = np.polyfit(x, y, 1)\n",
        "\n",
        "# # Create trend line\n",
        "# x_fit = np.linspace(x.min(), x.max(), 100)\n",
        "# y_fit = slope * x_fit + intercept\n",
        "\n",
        "# # Plot trend line\n",
        "# plt.plot(x_fit, y_fit, color='red', linewidth=2, label=f'Trend Line (slope: {slope:.4f})')\n",
        "\n",
        "# # Labels and grid\n",
        "# plt.xlabel('Total Complaint Count (per Region-Time)')\n",
        "# plt.ylabel('Total Fire Count (per Region-Time)')\n",
        "# plt.title('Scatter Plot: Complaint Counts vs Fire Counts per Region-Time')\n",
        "# plt.grid(True)\n",
        "# plt.legend()\n",
        "# plt.show()"
      ]
    },
    {
      "cell_type": "code",
      "execution_count": null,
      "metadata": {
        "id": "0rzma7R29_aQ"
      },
      "outputs": [],
      "source": [
        "# # Calculate R-squared\n",
        "\n",
        "# # Reshape x for sklearn\n",
        "# x_reshaped = x.values.reshape(-1, 1)\n",
        "# reg = LinearRegression().fit(x_reshaped, y)\n",
        "# r_squared = reg.score(x_reshaped, y)\n",
        "\n",
        "# print(f'R-squared: {r_squared:.4f}')"
      ]
    },
    {
      "cell_type": "markdown",
      "metadata": {
        "id": "SsMiQL6S7O97"
      },
      "source": [
        "## Aggregayed data analysis (10 years, 2 month time windows, fire complaints)"
      ]
    },
    {
      "cell_type": "markdown",
      "metadata": {
        "id": "42lGmJGM_rWT"
      },
      "source": [
        "### Testing different values for thresholds of High_C and High_F"
      ]
    },
    {
      "cell_type": "code",
      "execution_count": null,
      "metadata": {
        "id": "PBtLxRNf7Oeq"
      },
      "outputs": [],
      "source": [
        "#Exploring the fire numbers\n",
        "combine_df.groupBy(\"fire_count\").count().orderBy(\"fire_count\").show()"
      ]
    },
    {
      "cell_type": "code",
      "execution_count": null,
      "metadata": {
        "id": "RJYdmW8c-PzF"
      },
      "outputs": [],
      "source": [
        "combine_df.groupBy(\"time_group_id\").count().orderBy(\"time_group_id\").show(25)"
      ]
    },
    {
      "cell_type": "code",
      "execution_count": null,
      "metadata": {
        "id": "AxwotWik73bG"
      },
      "outputs": [],
      "source": [
        "# Calculate the 75th percentile of the number of fire complaints and fires\n",
        "percentile_75 = combine_df.approxQuantile(\"filtered_complaint_count\", [0.75], 0.01)[0]\n",
        "percentile_75f = combine_df.approxQuantile(\"fire_count\", [0.75], 0.01)[0]\n",
        "print(\"The 75th percentile of fire complaints:\", percentile_75)\n",
        "print(\"The 75th percentile of fires:\",percentile_75f)"
      ]
    },
    {
      "cell_type": "code",
      "execution_count": null,
      "metadata": {
        "id": "T5p2Bcv79XFc"
      },
      "outputs": [],
      "source": [
        "percentile_75p = combine_df.approxQuantile(\"filtered_percentage\", [0.75], 0.01)[0]\n",
        "print(\"The 75th percentile of filtered percentages:\", percentile_75p)"
      ]
    },
    {
      "cell_type": "code",
      "execution_count": null,
      "metadata": {
        "id": "GahyEywS-dkV"
      },
      "outputs": [],
      "source": [
        "combined_df = combine_df.withColumn(\n",
        "    \"High_C\",\n",
        "    when(col(\"filtered_complaint_count\") > percentile_75, True).otherwise(False)\n",
        ").withColumn(\n",
        "    \"High_F\",\n",
        "    when(col(\"fire_count\")>=1,True).otherwise(False)\n",
        ")\n",
        "combined_df.groupBy(\"High_F\").count().show()\n",
        "combined_df.groupBy(\"High_C\").count().show()\n",
        "# combined_df.show()"
      ]
    },
    {
      "cell_type": "code",
      "execution_count": null,
      "metadata": {
        "id": "rtPa_caF_NgH"
      },
      "outputs": [],
      "source": [
        "combined_df = combined_df.withColumn(\n",
        "    \"quadrant\",\n",
        "    when((col('High_C') & col('High_F')), 'High_C to High_F')  # Hypothesis\n",
        "    .when((col('High_C') & (~col('High_F'))), 'High_C to Low_F')  # Null\n",
        "    .when((~col('High_C') & col('High_F')), 'Low_C to High_F')  # Unexpected\n",
        "    .otherwise('Low_C to Low_F')  # Unremarkable\n",
        ")"
      ]
    },
    {
      "cell_type": "code",
      "execution_count": null,
      "metadata": {
        "id": "JUQVEFNz_1s_"
      },
      "outputs": [],
      "source": [
        "# STEP 2️⃣: Group + count quadrants in Spark\n",
        "quadrant_counts_df = combined_df.groupBy('quadrant').count()\n",
        "\n",
        "# STEP 3️⃣: Pull into Pandas (small result)\n",
        "quadrant_counts_pd = quadrant_counts_df.toPandas()"
      ]
    },
    {
      "cell_type": "markdown",
      "metadata": {
        "id": "yz3-oO3RWsWB"
      },
      "source": [
        "### Bar plots"
      ]
    },
    {
      "cell_type": "code",
      "execution_count": null,
      "metadata": {
        "id": "qnVBW6Rm_3a0"
      },
      "outputs": [],
      "source": [
        "# Define desired order (logical top-down order)\n",
        "order = ['High_C to High_F', 'High_C to Low_F', 'Low_C to High_F', 'Low_C to Low_F']\n",
        "quadrant_counts_pd = quadrant_counts_pd.set_index('quadrant').reindex(order).reset_index()\n",
        "\n",
        "# Reverse the DataFrame to plot top-down in correct order\n",
        "quadrant_counts_pd = quadrant_counts_pd.iloc[::-1]\n",
        "\n",
        "# STEP 4️⃣: Plot with counts + percentages (HORIZONTAL BARS)\n",
        "total = quadrant_counts_pd['count'].sum()\n",
        "colors = ['gray', 'yellow', 'red', 'green']  # reversed order to match reversed DataFrame\n",
        "\n",
        "plt.figure(figsize=(10, 6))\n",
        "bars = plt.barh(quadrant_counts_pd['quadrant'], quadrant_counts_pd['count'], color=colors)\n",
        "\n",
        "\n",
        "# Larger labels\n",
        "plt.xlabel(\"Count\", fontsize=12)\n",
        "plt.ylabel(\"Quadrant\", fontsize=12)\n",
        "plt.title(\"Quadrant Bar Chart: Heating Complaints vs Fire Risk (>= 1)\", fontsize=14)\n",
        "\n",
        "# Add count + percent labels at the end of each bar (increase font size)\n",
        "for bar, count in zip(bars, quadrant_counts_pd['count']):\n",
        "    width = bar.get_width()\n",
        "    percent = (count / total) * 100\n",
        "    plt.text(\n",
        "        width + 200,\n",
        "        bar.get_y() + bar.get_height() / 2,\n",
        "        f'{count} ({percent:.1f}%)',\n",
        "        ha='left',\n",
        "        va='center',\n",
        "        fontsize=11  # bigger text\n",
        "    )\n",
        "\n",
        "plt.tight_layout()\n",
        "plt.show()"
      ]
    },
    {
      "cell_type": "code",
      "execution_count": null,
      "metadata": {
        "id": "fueVp8dSAgxl"
      },
      "outputs": [],
      "source": [
        "combined_df2 = combine_df.withColumn(\n",
        "    \"High_C\",\n",
        "    when(col(\"filtered_complaint_count\") > percentile_75, True).otherwise(False)\n",
        ").withColumn(\n",
        "    \"High_F\",\n",
        "    when(col(\"fire_count\")>=2,True).otherwise(False)\n",
        ")\n",
        "combined_df2.groupBy(\"High_F\").count().show()\n",
        "combined_df2.groupBy(\"High_C\").count().show()\n",
        "# combined_df.show()"
      ]
    },
    {
      "cell_type": "code",
      "execution_count": null,
      "metadata": {
        "id": "TwzRZSLgB1lB"
      },
      "outputs": [],
      "source": [
        "combined_df2 = combined_df2.withColumn(\n",
        "    \"quadrant\",\n",
        "    when((col('High_C') & col('High_F')), 'High_C to High_F')  # Hypothesis\n",
        "    .when((col('High_C') & (~col('High_F'))), 'High_C to Low_F')  # Null\n",
        "    .when((~col('High_C') & col('High_F')), 'Low_C to High_F')  # Unexpected\n",
        "    .otherwise('Low_C to Low_F')  # Unremarkable\n",
        ")\n",
        "\n",
        "# STEP 2️⃣: Group + count quadrants in Spark\n",
        "quadrant_counts_df = combined_df2.groupBy('quadrant').count()\n",
        "\n",
        "# STEP 3️⃣: Pull into Pandas (small result)\n",
        "quadrant_counts_pd = quadrant_counts_df.toPandas()\n",
        "\n",
        "\n",
        "# Define desired order (logical top-down order)\n",
        "order = ['High_C to High_F', 'High_C to Low_F', 'Low_C to High_F', 'Low_C to Low_F']\n",
        "quadrant_counts_pd = quadrant_counts_pd.set_index('quadrant').reindex(order).reset_index()\n",
        "\n",
        "# Reverse the DataFrame to plot top-down in correct order\n",
        "quadrant_counts_pd = quadrant_counts_pd.iloc[::-1]\n",
        "\n",
        "# STEP 4️⃣: Plot with counts + percentages (HORIZONTAL BARS)\n",
        "total = quadrant_counts_pd['count'].sum()\n",
        "colors = ['gray', 'yellow', 'red', 'green']  # reversed order to match reversed DataFrame\n",
        "\n",
        "plt.figure(figsize=(10, 6))\n",
        "bars = plt.barh(quadrant_counts_pd['quadrant'], quadrant_counts_pd['count'], color=colors)\n",
        "\n",
        "\n",
        "# Larger labels\n",
        "plt.xlabel(\"Count\", fontsize=12)\n",
        "plt.ylabel(\"Quadrant\", fontsize=12)\n",
        "plt.title(\"Quadrant Bar Chart: Heating Complaints vs Fire Risk (>= 2)\", fontsize=14)\n",
        "\n",
        "# Add count + percent labels at the end of each bar (increase font size)\n",
        "for bar, count in zip(bars, quadrant_counts_pd['count']):\n",
        "    width = bar.get_width()\n",
        "    percent = (count / total) * 100\n",
        "    plt.text(\n",
        "        width + 200,\n",
        "        bar.get_y() + bar.get_height() / 2,\n",
        "        f'{count} ({percent:.1f}%)',\n",
        "        ha='left',\n",
        "        va='center',\n",
        "        fontsize=11  # bigger text\n",
        "    )\n",
        "\n",
        "plt.tight_layout()\n",
        "plt.show()"
      ]
    },
    {
      "cell_type": "markdown",
      "metadata": {
        "id": "5SMsW6EvExPi"
      },
      "source": [
        "### Scatter plots for complaint_count vs fire_count with two-month window and 10 years data"
      ]
    },
    {
      "cell_type": "code",
      "execution_count": null,
      "metadata": {
        "id": "_7jab_5NDZwO"
      },
      "outputs": [],
      "source": [
        "# Convert Spark DataFrame to Pandas (already aggregated)\n",
        "pandas_df = combine_df.toPandas()\n",
        "\n",
        "# # Optional: filter out rows with zero fire & complaint counts\n",
        "# pandas_df = pandas_df[\n",
        "#     (pandas_df['fire_count'] > 0) | (pandas_df['filtered_complaint_count'] > 0)\n",
        "# ]\n",
        "\n",
        "# X and Y data\n",
        "x = pandas_df['filtered_complaint_count']\n",
        "y = pandas_df['fire_count']\n",
        "\n",
        "# Scatter plot\n",
        "plt.figure(figsize=(10, 6))\n",
        "plt.scatter(x, y, alpha=0.5, s=10, label='Data Points')\n",
        "\n",
        "# Fit linear regression (1st-degree polynomial)\n",
        "slope, intercept = np.polyfit(x, y, 1)\n",
        "\n",
        "# Create trend line\n",
        "x_fit = np.linspace(x.min(), x.max(), 100)\n",
        "y_fit = slope * x_fit + intercept\n",
        "\n",
        "# Plot trend line\n",
        "plt.plot(x_fit, y_fit, color='red', linewidth=2, label=f'Trend Line (slope: {slope:.4f})')\n",
        "\n",
        "# Labels and grid\n",
        "plt.xlabel('Heating Complaint Count (per Region-Time)')\n",
        "plt.ylabel('Total Fire Count (per Region-Time)')\n",
        "plt.title('Scatter Plot: Heating Complaint Counts vs Fire Counts per Region-Time')\n",
        "plt.grid(True)\n",
        "plt.legend()\n",
        "plt.show()"
      ]
    },
    {
      "cell_type": "code",
      "execution_count": null,
      "metadata": {
        "id": "aZXuv1AsEdDA"
      },
      "outputs": [],
      "source": [
        "# Calculate R-squared\n",
        "\n",
        "# Reshape x for sklearn\n",
        "x_reshaped = x.values.reshape(-1, 1)\n",
        "reg = LinearRegression().fit(x_reshaped, y)\n",
        "r_squared = reg.score(x_reshaped, y)\n",
        "\n",
        "print(f'R-squared: {r_squared:.4f}')"
      ]
    },
    {
      "cell_type": "code",
      "execution_count": null,
      "metadata": {
        "id": "ydW6CE_VEfoF"
      },
      "outputs": [],
      "source": [
        "# # Convert Spark DataFrame to Pandas (already aggregated)\n",
        "# pandas_df = combine_df.toPandas()\n",
        "\n",
        "# Optional: filter out rows with zero fire & complaint counts\n",
        "pandas_df = pandas_df[\n",
        "    (pandas_df['fire_count'] > 0) | (pandas_df['filtered_complaint_count'] > 0)\n",
        "]\n",
        "\n",
        "# X and Y data\n",
        "x = pandas_df['filtered_complaint_count']\n",
        "y = pandas_df['fire_count']\n",
        "\n",
        "# Scatter plot\n",
        "plt.figure(figsize=(10, 6))\n",
        "plt.scatter(x, y, alpha=0.5, s=10, label='Data Points')\n",
        "\n",
        "# Fit linear regression (1st-degree polynomial)\n",
        "slope, intercept = np.polyfit(x, y, 1)\n",
        "\n",
        "# Create trend line\n",
        "x_fit = np.linspace(x.min(), x.max(), 100)\n",
        "y_fit = slope * x_fit + intercept\n",
        "\n",
        "# Plot trend line\n",
        "plt.plot(x_fit, y_fit, color='red', linewidth=2, label=f'Trend Line (slope: {slope:.4f})')\n",
        "\n",
        "# Labels and grid\n",
        "plt.xlabel('Heating Complaint Count (per Region-Time)')\n",
        "plt.ylabel('Total Fire Count (per Region-Time)')\n",
        "plt.title('Scatter Plot: Heating Counts vs Fire Counts per Region-Time')\n",
        "plt.grid(True)\n",
        "plt.legend()\n",
        "plt.show()"
      ]
    },
    {
      "cell_type": "code",
      "execution_count": null,
      "metadata": {
        "id": "YkBDthyKEhDy"
      },
      "outputs": [],
      "source": [
        "# Calculate R-squared\n",
        "\n",
        "# Reshape x for sklearn\n",
        "x_reshaped = x.values.reshape(-1, 1)\n",
        "reg = LinearRegression().fit(x_reshaped, y)\n",
        "r_squared = reg.score(x_reshaped, y)\n",
        "\n",
        "print(f'R-squared: {r_squared:.4f}')"
      ]
    },
    {
      "cell_type": "markdown",
      "metadata": {
        "id": "8hK-X3knMnQ-"
      },
      "source": [
        "Filtering out regions with small complaint total complaint counts and massive fire count outliers (1 fire_count of 33)"
      ]
    },
    {
      "cell_type": "code",
      "execution_count": null,
      "metadata": {
        "id": "nwEQWsGzK7_w"
      },
      "outputs": [],
      "source": [
        "#Filter out small regions\n",
        "filtered_combine_df = combine_df.filter(\n",
        "    (col(\"complaint_count\") >= 10) & (col(\"fire_count\") <= 20)\n",
        ")\n",
        "# Convert Spark DataFrame to Pandas (already aggregated)\n",
        "pandas_df = filtered_combine_df.toPandas()\n",
        "\n",
        "# # Optional: filter out rows with zero fire & complaint counts\n",
        "# pandas_df = pandas_df[\n",
        "#     (pandas_df['fire_count'] > 0) | (pandas_df['filtered_complaint_count'] > 0)\n",
        "# ]\n",
        "\n",
        "# X and Y data\n",
        "x = pandas_df['filtered_complaint_count']\n",
        "y = pandas_df['fire_count']\n",
        "\n",
        "# Scatter plot\n",
        "plt.figure(figsize=(10, 6))\n",
        "plt.scatter(x, y, alpha=0.5, s=10, label='Data Points')\n",
        "\n",
        "# Fit linear regression (1st-degree polynomial)\n",
        "slope, intercept = np.polyfit(x, y, 1)\n",
        "\n",
        "# Create trend line\n",
        "x_fit = np.linspace(x.min(), x.max(), 100)\n",
        "y_fit = slope * x_fit + intercept\n",
        "\n",
        "# Plot trend line\n",
        "plt.plot(x_fit, y_fit, color='red', linewidth=2, label=f'Trend Line (slope: {slope:.4f})')\n",
        "\n",
        "# Labels and grid\n",
        "plt.xlabel('Heating Complaint Count (per Region-Time)')\n",
        "plt.ylabel('Total Fire Count (per Region-Time)')\n",
        "plt.title('Scatter Plot: Heating Complaint Counts vs Fire Counts per Region-Time')\n",
        "plt.grid(True)\n",
        "plt.legend()\n",
        "plt.show()"
      ]
    },
    {
      "cell_type": "code",
      "execution_count": null,
      "metadata": {
        "id": "ItwoRymXOB6F"
      },
      "outputs": [],
      "source": [
        "# Reshape x for sklearn\n",
        "x_reshaped = x.values.reshape(-1, 1)\n",
        "reg = LinearRegression().fit(x_reshaped, y)\n",
        "r_squared = reg.score(x_reshaped, y)\n",
        "\n",
        "print(f'R-squared: {r_squared:.4f}')"
      ]
    },
    {
      "cell_type": "code",
      "execution_count": null,
      "metadata": {
        "id": "gODM8fLkORk4"
      },
      "outputs": [],
      "source": [
        "# Optional: filter out rows with zero fire & complaint counts\n",
        "pandas_df = pandas_df[\n",
        "    (pandas_df['fire_count'] > 0) | (pandas_df['filtered_complaint_count'] > 0)\n",
        "]\n",
        "\n",
        "# X and Y data\n",
        "x = pandas_df['filtered_complaint_count']\n",
        "y = pandas_df['fire_count']\n",
        "\n",
        "# Scatter plot\n",
        "plt.figure(figsize=(10, 6))\n",
        "plt.scatter(x, y, alpha=0.5, s=10, label='Data Points')\n",
        "\n",
        "# Fit linear regression (1st-degree polynomial)\n",
        "slope, intercept = np.polyfit(x, y, 1)\n",
        "\n",
        "# Create trend line\n",
        "x_fit = np.linspace(x.min(), x.max(), 100)\n",
        "y_fit = slope * x_fit + intercept\n",
        "\n",
        "# Plot trend line\n",
        "plt.plot(x_fit, y_fit, color='red', linewidth=2, label=f'Trend Line (slope: {slope:.4f})')\n",
        "\n",
        "# Labels and grid\n",
        "plt.xlabel('Heating Complaint Count (per Region-Time)')\n",
        "plt.ylabel('Total Fire Count (per Region-Time)')\n",
        "plt.title('Scatter Plot: Heating Complaint Counts vs Fire Counts per Region-Time')\n",
        "plt.grid(True)\n",
        "plt.legend()\n",
        "plt.show()"
      ]
    },
    {
      "cell_type": "code",
      "execution_count": null,
      "metadata": {
        "id": "g7wMSjoXVg3S"
      },
      "outputs": [],
      "source": [
        "# Reshape x for sklearn\n",
        "x_reshaped = x.values.reshape(-1, 1)\n",
        "reg = LinearRegression().fit(x_reshaped, y)\n",
        "r_squared = reg.score(x_reshaped, y)\n",
        "\n",
        "print(f'R-squared: {r_squared:.4f}')"
      ]
    },
    {
      "cell_type": "markdown",
      "metadata": {
        "id": "H4j0rjeJTwoZ"
      },
      "source": [
        "Trying using all the complaints instead of just the heat related ones"
      ]
    },
    {
      "cell_type": "code",
      "execution_count": null,
      "metadata": {
        "id": "e_O2ieCASegb"
      },
      "outputs": [],
      "source": [
        "# #Filter out small regions\n",
        "# filtered_combine_df = combine_df.filter(\n",
        "#     (col(\"complaint_count\") >= 10) & (col(\"fire_count\") <= 20)\n",
        "# )\n",
        "# # Convert Spark DataFrame to Pandas (already aggregated)\n",
        "# pandas_df = filtered_combine_df.toPandas()\n",
        "\n",
        "# # # Optional: filter out rows with zero fire & complaint counts\n",
        "# # pandas_df = pandas_df[\n",
        "# #     (pandas_df['fire_count'] > 0) | (pandas_df['filtered_complaint_count'] > 0)\n",
        "# # ]\n",
        "\n",
        "# # X and Y data\n",
        "# x = pandas_df['complaint_count']\n",
        "# y = pandas_df['fire_count']\n",
        "\n",
        "# # Scatter plot\n",
        "# plt.figure(figsize=(10, 6))\n",
        "# plt.scatter(x, y, alpha=0.5, s=10, label='Data Points')\n",
        "\n",
        "# # Fit linear regression (1st-degree polynomial)\n",
        "# slope, intercept = np.polyfit(x, y, 1)\n",
        "\n",
        "# # Create trend line\n",
        "# x_fit = np.linspace(x.min(), x.max(), 100)\n",
        "# y_fit = slope * x_fit + intercept\n",
        "\n",
        "# # Plot trend line\n",
        "# plt.plot(x_fit, y_fit, color='red', linewidth=2, label=f'Trend Line (slope: {slope:.4f})')\n",
        "\n",
        "# # Labels and grid\n",
        "# plt.xlabel('Total Complaint Count (per Region-Time)')\n",
        "# plt.ylabel('Total Fire Count (per Region-Time)')\n",
        "# plt.title('Scatter Plot: Unfiltered Complaint Counts vs Fire Counts per Region-Time')\n",
        "# plt.grid(True)\n",
        "# plt.legend()\n",
        "# plt.show()"
      ]
    },
    {
      "cell_type": "markdown",
      "metadata": {
        "id": "P6Zz390RFNnG"
      },
      "source": [
        "## Aggregated data analysis (10 years, 2 month time windows, fire complaint percentage)"
      ]
    },
    {
      "cell_type": "markdown",
      "metadata": {
        "id": "AZbrhWzVWy2X"
      },
      "source": [
        "### Scatter plots for complaint_percentage vs fire_count with two-month window and 10 years data"
      ]
    },
    {
      "cell_type": "code",
      "execution_count": null,
      "metadata": {
        "id": "gkFz8WXrF8QR"
      },
      "outputs": [],
      "source": [
        "# # Optional: filter out rows with zero fire & complaint counts\n",
        "# pandas_df = pandas_df[\n",
        "#     (pandas_df['fire_count'] > 0) | (pandas_df['filtered_percentage'] > 0)\n",
        "# ]\n",
        "\n",
        "# X and Y data\n",
        "x = pandas_df['filtered_percentage']\n",
        "y = pandas_df['fire_count']\n",
        "\n",
        "# Scatter plot\n",
        "plt.figure(figsize=(10, 6))\n",
        "plt.scatter(x, y, alpha=0.5, s=10, label='Data Points')\n",
        "\n",
        "# Fit linear regression (1st-degree polynomial)\n",
        "slope, intercept = np.polyfit(x, y, 1)\n",
        "\n",
        "# Create trend line\n",
        "x_fit = np.linspace(x.min(), x.max(), 100)\n",
        "y_fit = slope * x_fit + intercept\n",
        "\n",
        "# Plot trend line\n",
        "plt.plot(x_fit, y_fit, color='red', linewidth=2, label=f'Trend Line (slope: {slope:.4f})')\n",
        "\n",
        "# Labels and grid\n",
        "plt.xlabel('Percentage of Fire Complaints (per Region-Time)')\n",
        "plt.ylabel('Total Fire Count (per Region-Time)')\n",
        "plt.title('Scatter Plot: Complaint Percentage vs Fire Counts per Region-Time')\n",
        "plt.grid(True)\n",
        "plt.legend()\n",
        "plt.show()"
      ]
    },
    {
      "cell_type": "code",
      "execution_count": null,
      "metadata": {
        "id": "pmGw5GkkGJsa"
      },
      "outputs": [],
      "source": [
        "# X and Y data\n",
        "x = pandas_df['filtered_percentage']\n",
        "y = pandas_df['fire_count']\n",
        "\n",
        "# Scatter plot\n",
        "plt.figure(figsize=(10, 6))\n",
        "plt.scatter(x, y, alpha=0.5, s=10, label='Data Points')\n",
        "\n",
        "# Fit linear regression (1st-degree polynomial)\n",
        "slope, intercept = np.polyfit(x, y, 1)\n",
        "\n",
        "# Create trend line\n",
        "x_fit = np.linspace(x.min(), x.max(), 100)\n",
        "y_fit = slope * x_fit + intercept\n",
        "\n",
        "# Plot trend line\n",
        "plt.plot(x_fit, y_fit, color='red', linewidth=2, label=f'Trend Line (slope: {slope:.4f})')\n",
        "\n",
        "# Labels and grid\n",
        "plt.xlabel('Percentage of Heating Complaints (per Region-Time)')\n",
        "plt.ylabel('Total Fire Count (per Region-Time)')\n",
        "plt.title('Scatter Plot: Complaint Percentage vs Fire Counts per Region-Time')\n",
        "plt.grid(True)\n",
        "plt.legend()\n",
        "plt.show()"
      ]
    },
    {
      "cell_type": "markdown",
      "metadata": {
        "id": "UGuviCZ2zgoA"
      },
      "source": [
        "## Heatmap"
      ]
    },
    {
      "cell_type": "code",
      "execution_count": null,
      "metadata": {
        "id": "Tbjqfs8lzmHY"
      },
      "outputs": [],
      "source": [
        "import seaborn as sns\n",
        "import matplotlib.pyplot as plt\n",
        "\n",
        "df_pd = grouped_fire_df.toPandas() # grouped_complaint_df.toPandas()\n",
        "pivot_table = df_pd.pivot_table(index=\"latitude\", columns=\"longitude\", values=\"fire_count\", aggfunc=\"sum\").sort_index(ascending=False)\n",
        "sns.heatmap(pivot_table, cmap=\"hot_r\")\n",
        "plt.show()"
      ]
    },
    {
      "cell_type": "code",
      "execution_count": null,
      "metadata": {
        "id": "S39TmzMCGN9X"
      },
      "outputs": [],
      "source": [
        "import folium\n",
        "from folium.plugins import HeatMap\n",
        "\n",
        "# Generate map: the center is the Statue of Liberty\n",
        "m = folium.Map(location=[40.75, -73.97], zoom_start=11)\n",
        "\n",
        "heat_data = [[row['latitude'] + LAT_LONG_GAP/2, row['longitude'] + LAT_LONG_GAP/2, row['fire_count']] for index, row in df_pd.iterrows()]\n",
        "\n",
        "# add heatmap\n",
        "HeatMap(heat_data, radius=8).add_to(m)"
      ]
    },
    {
      "cell_type": "code",
      "execution_count": null,
      "metadata": {
        "id": "bHzlAjDDHL5e"
      },
      "outputs": [],
      "source": [
        "from google.colab import files\n",
        "\n",
        "# save resulted map\n",
        "m.save(\"ny_heatmap.html\")\n",
        "files.download(\"ny_heatmap.html\")"
      ]
    },
    {
      "cell_type": "markdown",
      "metadata": {
        "id": "AWPCK0myX1ZL"
      },
      "source": [
        "# Part 5. Finish Final DataFrame\n",
        "\n",
        "Polish dataframe for presentation and add columns for use in Heatmap and Model"
      ]
    },
    {
      "cell_type": "markdown",
      "metadata": {
        "id": "__4WxNz5IEg9"
      },
      "source": [
        "## Rename columns"
      ]
    },
    {
      "cell_type": "code",
      "execution_count": null,
      "metadata": {
        "id": "Ligyltc7aRLr"
      },
      "outputs": [],
      "source": [
        "# Rename columns\n",
        "rename_df = combine_df.withColumnRenamed(\"complaint_count\", \"total_complaints\")\n",
        "rename_df = combine_df.withColumnRenamed(\"filtered_complaint_count\", \"heating_complaints\")\n",
        "rename_df = combine_df.withColumnRenamed(\"filtered_percentage\", \"heating_complaint_percentage\")"
      ]
    },
    {
      "cell_type": "markdown",
      "metadata": {
        "id": "fkUvdCs9H6MB"
      },
      "source": [
        "## Add High_C, High_F and quadrant"
      ]
    },
    {
      "cell_type": "code",
      "execution_count": null,
      "metadata": {
        "id": "OzTPWNbxONKn"
      },
      "outputs": [],
      "source": [
        "# Calculate the 75th percentile of the number of fire complaints and fires\n",
        "percentile_75 = rename_df.approxQuantile(\"heating_complaints\", [0.75], 0.01)[0]\n",
        "\n",
        "# Add columns for High_C and High_F\n",
        "category_df = rename_df.withColumn(\n",
        "    \"High_C\",\n",
        "    when(col(\"heating_complaints\") > percentile_75, True).otherwise(False)\n",
        ").withColumn(\n",
        "    \"High_F\",\n",
        "    when(col(\"fire_count\")>=1,True).otherwise(False)\n",
        ")\n",
        "\n",
        "# Add column for Quadrant\n",
        "quadrant_df = category_df.withColumn(\n",
        "    \"quadrant\",\n",
        "    when((col('High_C') & col('High_F')), 'High_C to High_F')  # Hypothesis\n",
        "    .when((col('High_C') & (~col('High_F'))), 'High_C to Low_F')  # Null\n",
        "    .when((~col('High_C') & col('High_F')), 'Low_C to High_F')  # Unexpected\n",
        "    .otherwise('Low_C to Low_F')  # Unremarkable\n",
        ")"
      ]
    },
    {
      "cell_type": "markdown",
      "metadata": {
        "id": "aoKG3SU5RwFC"
      },
      "source": [
        "## Add prev_heating_complaints and complaint_growth_ratio\n",
        "Shows the growth of heating complaints from one time window to the next. All rows in the first time window are marked as 0."
      ]
    },
    {
      "cell_type": "code",
      "execution_count": null,
      "metadata": {
        "id": "pGURwA71IPlk"
      },
      "outputs": [],
      "source": [
        "# number of rows where heating_complaints == 0 and time_group_Id != 2015-1\n",
        "\n",
        "count = quadrant_df.filter((col(\"heating_complaints\") == 0) & (col(\"time_group_id\") != \"2015-1\")).count()\n",
        "print(f\"Number of rows where heating_complaints == 0 and time_group_id != 2015-1: {count}\")\n"
      ]
    },
    {
      "cell_type": "code",
      "execution_count": null,
      "metadata": {
        "id": "bcJE86Z1Lh_m"
      },
      "outputs": [],
      "source": [
        "# Check if these regions ever had non-zero complaints\n",
        "quiet_regions = quadrant_df.filter((col(\"heating_complaints\") == 0) & (col(\"time_group_id\") != \"2015-1\")).select(\"region_id\").distinct()\n",
        "quadrant_df.filter((col(\"region_id\").isin([r.region_id for r in quiet_regions.collect()])) & (col(\"heating_complaints\") > 0)).show()"
      ]
    },
    {
      "cell_type": "code",
      "execution_count": null,
      "metadata": {
        "id": "ZkFYQabPcz6Z"
      },
      "outputs": [],
      "source": [
        "windowSpec = Window.partitionBy(\"region_id\").orderBy(\"time_group_id\")\n",
        "\n",
        "delta_df = quadrant_df.withColumn(\n",
        "    \"prev_heating_complaints\", lag(\"heating_complaints\").over(windowSpec)\n",
        ")\n",
        "\n",
        "delta_df = delta_df.withColumn(\n",
        "    \"prev_heating_complaints\",\n",
        "    when(col(\"prev_heating_complaints\").isNull(), 0).otherwise(col(\"prev_heating_complaints\"))\n",
        ")\n",
        "\n",
        "delta_df = delta_df.withColumn(\n",
        "    \"complaint_growth_ratio\",\n",
        "    when(col(\"prev_heating_complaints\") > 0,\n",
        "         (col(\"heating_complaints\") - col(\"prev_heating_complaints\")) / col(\"prev_heating_complaints\"))\n",
        "    .otherwise(0)\n",
        ")"
      ]
    },
    {
      "cell_type": "code",
      "execution_count": null,
      "metadata": {
        "id": "9V5uMb-AePPH"
      },
      "outputs": [],
      "source": [
        "none_count = delta_df.filter(col(\"complaint_growth_ratio\").isNull()).count()\n",
        "print(f\"Number of rows with 'complaint_growth_ration' as None: {none_count}\")\n"
      ]
    },
    {
      "cell_type": "code",
      "execution_count": null,
      "metadata": {
        "id": "4v9trMhbZ-qA"
      },
      "outputs": [],
      "source": [
        "delta_df.filter(col(\"prev_heating_complaints\").isNull()).show()"
      ]
    },
    {
      "cell_type": "markdown",
      "metadata": {
        "id": "RucmokoHT89z"
      },
      "source": [
        "## Add borough back into the dataframe"
      ]
    },
    {
      "cell_type": "code",
      "execution_count": null,
      "metadata": {
        "id": "jycrQP7bFMUC"
      },
      "outputs": [],
      "source": [
        "# Snap lat/lon to your grid and get borough info\n",
        "region_info_df = original_housing_df.dropna(subset=[\"Latitude\", \"Longitude\"]).withColumn(\n",
        "    \"latitude\", floor(col(\"Latitude\") * LAT_LONG_GAP_INVERSE) / LAT_LONG_GAP_INVERSE\n",
        ").withColumn(\n",
        "    \"longitude\", floor(col(\"Longitude\") * LAT_LONG_GAP_INVERSE) / LAT_LONG_GAP_INVERSE\n",
        ").select(\"latitude\", \"longitude\", \"Borough\").dropDuplicates()"
      ]
    },
    {
      "cell_type": "code",
      "execution_count": null,
      "metadata": {
        "id": "5Gd9vZ4ZHq-j"
      },
      "outputs": [],
      "source": [
        "region_info_df = region_info_df.groupBy(\"latitude\", \"longitude\").agg(first(\"Borough\").alias(\"Borough\"))"
      ]
    },
    {
      "cell_type": "code",
      "execution_count": null,
      "metadata": {
        "id": "liVnW_NqHB6e"
      },
      "outputs": [],
      "source": [
        "region_info_df.groupBy(\"latitude\", \"longitude\").count().filter(\"count > 1\").show()"
      ]
    },
    {
      "cell_type": "code",
      "execution_count": null,
      "metadata": {
        "id": "55B8ACFdFhTH"
      },
      "outputs": [],
      "source": [
        "borough_df = delta_df.join(\n",
        "    region_info_df,\n",
        "    on=[\"latitude\", \"longitude\"],\n",
        "    how=\"left\")"
      ]
    },
    {
      "cell_type": "code",
      "execution_count": null,
      "metadata": {
        "id": "SAyUyAnSWKW4"
      },
      "outputs": [],
      "source": [
        "borough_df.count()"
      ]
    },
    {
      "cell_type": "code",
      "execution_count": null,
      "metadata": {
        "id": "Phyw0wYIWRz7"
      },
      "outputs": [],
      "source": [
        "borough_df.groupBy(\"Borough\").count().show()"
      ]
    },
    {
      "cell_type": "code",
      "execution_count": null,
      "metadata": {
        "id": "zBq5kjGHWAOt"
      },
      "outputs": [],
      "source": [
        "borough_df.columns"
      ]
    },
    {
      "cell_type": "markdown",
      "metadata": {
        "id": "oobplboFUE-l"
      },
      "source": [
        "## Save final df"
      ]
    },
    {
      "cell_type": "code",
      "execution_count": null,
      "metadata": {
        "id": "q-UFn-oiVL9d"
      },
      "outputs": [],
      "source": [
        "# Move 'region_id' to the first column\n",
        "cols = borough_df.columns\n",
        "cols.remove(\"region_id\")\n",
        "final_df = borough_df.select(\"region_id\", *cols)"
      ]
    },
    {
      "cell_type": "code",
      "execution_count": null,
      "metadata": {
        "id": "ridfVlzpayt7"
      },
      "outputs": [],
      "source": [
        "final_df.columns"
      ]
    },
    {
      "cell_type": "code",
      "execution_count": null,
      "metadata": {
        "id": "Hjs9-hHFYC0H"
      },
      "outputs": [],
      "source": [
        "final_df.limit(5).toPandas()"
      ]
    },
    {
      "cell_type": "code",
      "execution_count": null,
      "metadata": {
        "id": "fgrGpmyEQKeT"
      },
      "outputs": [],
      "source": [
        "# Check NULL\n",
        "# This code is not necessary to run, it is only here to check if our results have NULL value\n",
        "final_df.select([\n",
        "    sum(when(col(c).isNull(), 1).otherwise(0)).alias(c)\n",
        "    for c in final_df.columns\n",
        "]).show()"
      ]
    },
    {
      "cell_type": "code",
      "execution_count": null,
      "metadata": {
        "id": "zZmJS681cmHD"
      },
      "outputs": [],
      "source": [
        "final_df = final_df.orderBy(\"region_id\", \"time_group_id\")"
      ]
    },
    {
      "cell_type": "code",
      "execution_count": null,
      "metadata": {
        "id": "sTMRgW7nh_-E"
      },
      "outputs": [],
      "source": [
        "final_df.toPandas().to_csv('/content/drive/My Drive/project/final_df.csv', index=False)"
      ]
    },
    {
      "cell_type": "markdown",
      "metadata": {
        "id": "9TkBk6tyEk-u"
      },
      "source": [
        "# Load final_df"
      ]
    },
    {
      "cell_type": "code",
      "execution_count": null,
      "metadata": {
        "id": "njJyvqEcEVRy"
      },
      "outputs": [],
      "source": [
        "Final_df_path = \"/content/drive/My Drive/project/final_df.csv\"\n",
        "final_df=spark.read.option(\"header\",True).csv(Final_df_path)"
      ]
    },
    {
      "cell_type": "markdown",
      "metadata": {
        "id": "lj8EhpA_fBfm"
      },
      "source": [
        "# Part 6. Training a Logisitc regression model"
      ]
    },
    {
      "cell_type": "markdown",
      "metadata": {
        "id": "a-iwe8aZmZOJ"
      },
      "source": [
        "## Logistic Regression"
      ]
    },
    {
      "cell_type": "code",
      "execution_count": null,
      "metadata": {
        "id": "VuShidCHfEzE"
      },
      "outputs": [],
      "source": [
        "#Create the label\n",
        "final_df = final_df.withColumn(\n",
        "    \"fire_occurred\",\n",
        "    when(col(\"fire_count\") >= 1, 1).otherwise(0)\n",
        ")"
      ]
    },
    {
      "cell_type": "code",
      "execution_count": null,
      "metadata": {
        "id": "cheUeq4mfKfN"
      },
      "outputs": [],
      "source": [
        "numerical_features = [\n",
        "    \"total_complaints\",\n",
        "    \"heating_complaints\",\n",
        "    \"heating_complaint_percentage\",\n",
        "    \"complaint_growth_ratio\",\n",
        "    \"prev_heating_complaints\"\n",
        "]\n",
        "\n",
        "# Cast each column to DoubleType\n",
        "for feature in numerical_features:\n",
        "    final_df = final_df.withColumn(feature, col(feature).cast(\"double\"))"
      ]
    },
    {
      "cell_type": "code",
      "execution_count": null,
      "metadata": {
        "id": "exHS5OYUfRAW"
      },
      "outputs": [],
      "source": [
        "# 1️⃣ Index Borough\n",
        "borough_indexer = StringIndexer(inputCol=\"Borough\", outputCol=\"BoroughIndex\", handleInvalid='keep')\n",
        "\n",
        "# 2️⃣ One-hot encode Borough\n",
        "borough_encoder = OneHotEncoder(inputCols=[\"BoroughIndex\"], outputCols=[\"BoroughVec\"])\n",
        "\n",
        "# 3️⃣ Assemble features\n",
        "assembler = VectorAssembler(\n",
        "    inputCols=numerical_features + [\"BoroughVec\"],  # numerical + encoded borough\n",
        "    outputCol=\"features\"\n",
        ")"
      ]
    },
    {
      "cell_type": "code",
      "execution_count": null,
      "metadata": {
        "id": "_YEp4uhxEhd5"
      },
      "outputs": [],
      "source": [
        "# 4️⃣ Logistic Regression\n",
        "lr = LogisticRegression(labelCol=\"fire_occurred\", featuresCol=\"features\", probabilityCol=\"probability\")\n",
        "\n",
        "# Build the pipeline\n",
        "pipeline = Pipeline(stages=[borough_indexer, borough_encoder, assembler, lr])"
      ]
    },
    {
      "cell_type": "code",
      "execution_count": null,
      "metadata": {
        "id": "3qAA1GiWgTnS"
      },
      "outputs": [],
      "source": [
        "# Split data\n",
        "train_df, test_df = final_df.randomSplit([0.8, 0.2], seed=42)\n",
        "\n",
        "# Fit the pipeline\n",
        "model = pipeline.fit(train_df)"
      ]
    },
    {
      "cell_type": "code",
      "execution_count": null,
      "metadata": {
        "id": "oJWjb4bsglA0"
      },
      "outputs": [],
      "source": [
        "predictions = model.transform(test_df)\n",
        "train_predictions = model.transform(train_df)\n",
        "\n",
        "# Extract the fire probability (probability of class 1)\n",
        "\n",
        "\n",
        "def extract_fire_prob(probability_vector):\n",
        "    return float(probability_vector[1])\n",
        "\n",
        "extract_fire_prob_udf = udf(extract_fire_prob, DoubleType())\n",
        "\n",
        "predictions = predictions.withColumn(\n",
        "    \"fire_risk_prob\",\n",
        "    extract_fire_prob_udf(col(\"probability\"))\n",
        ")"
      ]
    },
    {
      "cell_type": "code",
      "execution_count": null,
      "metadata": {
        "colab": {
          "base_uri": "https://localhost:8080/"
        },
        "id": "GzKwLzu8hevi",
        "outputId": "71937b4b-0311-4cac-bf8c-7333c35c5742"
      },
      "outputs": [
        {
          "name": "stdout",
          "output_type": "stream",
          "text": [
            "+--------------+-------------+-------------------+----------+\n",
            "|region_id     |time_group_id|fire_risk_prob     |prediction|\n",
            "+--------------+-------------+-------------------+----------+\n",
            "|40.495_-74.245|2016-1       |0.2527197819149358 |0.0       |\n",
            "|40.505_-74.24 |2018-0       |0.25724102667058324|0.0       |\n",
            "|40.505_-74.24 |2024-1       |0.25724102667058324|0.0       |\n",
            "|40.505_-74.245|2020-1       |0.24598860049369875|0.0       |\n",
            "|40.505_-74.25 |2018-1       |0.24671296391355424|0.0       |\n",
            "|40.505_-74.25 |2022-1       |0.2500611792817482 |0.0       |\n",
            "|40.515_-74.205|2024-0       |0.25724102667058324|0.0       |\n",
            "|40.515_-74.24 |2018-1       |0.25724102667058324|0.0       |\n",
            "|40.51_-74.205 |2019-0       |0.24219582949111484|0.0       |\n",
            "|40.51_-74.21  |2019-0       |0.24065653704736423|0.0       |\n",
            "+--------------+-------------+-------------------+----------+\n",
            "only showing top 10 rows\n",
            "\n"
          ]
        }
      ],
      "source": [
        "predictions.select(\"region_id\", \"time_group_id\", \"fire_risk_prob\", \"prediction\").show(10, truncate=False)"
      ]
    },
    {
      "cell_type": "markdown",
      "metadata": {
        "id": "Pt3Sk8p7iqnf"
      },
      "source": [
        "ROC"
      ]
    },
    {
      "cell_type": "code",
      "execution_count": null,
      "metadata": {
        "colab": {
          "base_uri": "https://localhost:8080/"
        },
        "id": "_-c1Fe5th7L6",
        "outputId": "db4067f8-061d-4bd8-bae6-d80ea0b5c392"
      },
      "outputs": [
        {
          "name": "stdout",
          "output_type": "stream",
          "text": [
            "AUC: 0.648\n"
          ]
        }
      ],
      "source": [
        "evaluator = BinaryClassificationEvaluator(labelCol=\"fire_occurred\")\n",
        "auc = evaluator.evaluate(predictions)\n",
        "print(f\"AUC: {auc:.3f}\")"
      ]
    },
    {
      "cell_type": "markdown",
      "metadata": {
        "id": "WSLSHHf4irf9"
      },
      "source": [
        "Confusion Matrix"
      ]
    },
    {
      "cell_type": "code",
      "execution_count": null,
      "metadata": {
        "colab": {
          "base_uri": "https://localhost:8080/"
        },
        "id": "vODhLrFkiOKD",
        "outputId": "aca474f1-8e0f-4b01-b1ef-1b8058a6fbf1"
      },
      "outputs": [
        {
          "name": "stdout",
          "output_type": "stream",
          "text": [
            "+-------------+----------+-----+\n",
            "|fire_occurred|prediction|count|\n",
            "+-------------+----------+-----+\n",
            "|            1|       0.0| 2170|\n",
            "|            0|       0.0| 3604|\n",
            "|            1|       1.0|  670|\n",
            "|            0|       1.0|  344|\n",
            "+-------------+----------+-----+\n",
            "\n"
          ]
        }
      ],
      "source": [
        "predictions.groupBy(\"fire_occurred\", \"prediction\").count().show()"
      ]
    },
    {
      "cell_type": "code",
      "execution_count": null,
      "metadata": {
        "colab": {
          "base_uri": "https://localhost:8080/"
        },
        "id": "OVu1pUvliglX",
        "outputId": "23bd73eb-cf91-41da-bd1f-c14149f0aa6a"
      },
      "outputs": [
        {
          "name": "stdout",
          "output_type": "stream",
          "text": [
            "+-------------+-----+\n",
            "|fire_occurred|count|\n",
            "+-------------+-----+\n",
            "|            1| 2840|\n",
            "|            0| 3948|\n",
            "+-------------+-----+\n",
            "\n"
          ]
        }
      ],
      "source": [
        "predictions.groupBy(\"fire_occurred\").count().show()"
      ]
    },
    {
      "cell_type": "code",
      "execution_count": null,
      "metadata": {
        "colab": {
          "base_uri": "https://localhost:8080/"
        },
        "id": "pG64sxu1itcp",
        "outputId": "f33be6e2-de28-4a47-a98c-94cc03bbceba"
      },
      "outputs": [
        {
          "name": "stdout",
          "output_type": "stream",
          "text": [
            "Precision: 0.661\n",
            "Recall: 0.236\n",
            "Train Accuracy: 0.629\n",
            "Test Accuracy: 0.630\n"
          ]
        }
      ],
      "source": [
        "precision_evaluator = MulticlassClassificationEvaluator(\n",
        "    labelCol=\"fire_occurred\", predictionCol=\"prediction\", metricName=\"precisionByLabel\", metricLabel=1.0\n",
        ")\n",
        "\n",
        "recall_evaluator = MulticlassClassificationEvaluator(\n",
        "    labelCol=\"fire_occurred\", predictionCol=\"prediction\", metricName=\"recallByLabel\", metricLabel=1.0\n",
        ")\n",
        "\n",
        "accuracy_evaluator = MulticlassClassificationEvaluator(\n",
        "    labelCol=\"fire_occurred\",\n",
        "    predictionCol=\"prediction\",\n",
        "    metricName=\"accuracy\"\n",
        ")\n",
        "\n",
        "\n",
        "precision = precision_evaluator.evaluate(predictions)\n",
        "recall = recall_evaluator.evaluate(predictions)\n",
        "accuracy = accuracy_evaluator.evaluate(predictions)\n",
        "train_accuracy = accuracy_evaluator.evaluate(train_predictions)\n",
        "\n",
        "print(f\"Precision: {precision:.3f}\")\n",
        "print(f\"Recall: {recall:.3f}\")\n",
        "print(f\"Train Accuracy: {train_accuracy:.3f}\")\n",
        "print(f\"Test Accuracy: {accuracy:.3f}\")\n"
      ]
    },
    {
      "cell_type": "code",
      "execution_count": null,
      "metadata": {
        "colab": {
          "base_uri": "https://localhost:8080/"
        },
        "id": "X-XIufyai41D",
        "outputId": "badb871f-7c3e-461e-9be3-2aeeaf5ac037"
      },
      "outputs": [
        {
          "name": "stdout",
          "output_type": "stream",
          "text": [
            "total_complaints: 0.0072\n",
            "heating_complaints: -0.0075\n",
            "heating_complaint_percentage: 0.0010\n",
            "complaint_growth_ratio: -0.0005\n",
            "prev_heating_complaints: 0.0006\n",
            "Borough_QUEENS: -0.0699\n",
            "Borough_BROOKLYN: 0.2970\n",
            "Borough_BRONX: -0.1493\n",
            "Borough_MANHATTAN: 0.1401\n",
            "Borough_STATEN ISLAND: -0.4746\n"
          ]
        }
      ],
      "source": [
        "# Access the trained Logistic Regression model inside the pipeline\n",
        "lr_model = model.stages[-1]  # The last stage is LogisticRegressionModel\n",
        "\n",
        "coefficients = lr_model.coefficients\n",
        "\n",
        "# Get the Borough categories from the StringIndexer stage\n",
        "borough_categories = model.stages[0].labels  # Stage 0 is borough_indexer\n",
        "\n",
        "# Build full feature name list\n",
        "feature_names = numerical_features + [f\"Borough_{cat}\" for cat in borough_categories]\n",
        "\n",
        "# Print each coefficient with its feature name\n",
        "for name, coef in zip(feature_names, lr_model.coefficients):\n",
        "    print(f\"{name}: {coef:.4f}\")"
      ]
    },
    {
      "cell_type": "markdown",
      "metadata": {
        "id": "e2Ss_19EMIKd"
      },
      "source": [
        "### Visualizations"
      ]
    },
    {
      "cell_type": "markdown",
      "metadata": {
        "id": "smn6Cq31Cjc3"
      },
      "source": [
        "#### Feature importances"
      ]
    },
    {
      "cell_type": "code",
      "execution_count": null,
      "metadata": {
        "colab": {
          "base_uri": "https://localhost:8080/",
          "height": 564
        },
        "id": "7KU4Ks-yHXgy",
        "outputId": "4c854790-f569-4cb8-dcec-e9a69ce66cae"
      },
      "outputs": [
        {
          "data": {
            "image/png": "[encoded data removed]",
            "text/plain": [
              "<Figure size 1000x600 with 1 Axes>"
            ]
          },
          "metadata": {},
          "output_type": "display_data"
        }
      ],
      "source": [
        "# Convert to numpy array for plotting\n",
        "# Keep original (with sign)\n",
        "coef_values_signed = np.array(coefficients)\n",
        "\n",
        "# Sort features by importance\n",
        "indices = np.argsort(coef_values_signed)[::-1]  # High to low\n",
        "\n",
        "\n",
        "# Plot\n",
        "plt.figure(figsize=(10,6))\n",
        "plt.barh(range(len(coef_values_signed)), coef_values_signed[indices], align='center', color=['green' if val > 0 else 'red' for val in coef_values_signed[indices]])\n",
        "plt.yticks(range(len(coef_values_signed)), np.array(feature_names)[indices])\n",
        "plt.xlabel('Coefficient')\n",
        "plt.title('Logistic Regression Coefficients (Impact & Direction)')\n",
        "plt.gca().invert_yaxis()\n",
        "plt.show()"
      ]
    },
    {
      "cell_type": "markdown",
      "metadata": {
        "id": "KDmLzr9uCoos"
      },
      "source": [
        "#### Confusion Matrix"
      ]
    },
    {
      "cell_type": "code",
      "execution_count": null,
      "metadata": {
        "colab": {
          "base_uri": "https://localhost:8080/",
          "height": 507
        },
        "id": "aEv2LotcGv4G",
        "outputId": "8dc8155a-dc99-4761-9c00-7e208b9104c9"
      },
      "outputs": [
        {
          "data": {
            "image/png": "[encoded data removed]",
            "text/plain": [
              "<Figure size 600x500 with 2 Axes>"
            ]
          },
          "metadata": {},
          "output_type": "display_data"
        }
      ],
      "source": [
        "# Convert predictions to Pandas\n",
        "preds_pd = predictions.select(\"fire_occurred\", \"prediction\").toPandas()\n",
        "\n",
        "# Assume preds_pd has columns: fire_occurred, prediction\n",
        "cm = confusion_matrix(preds_pd[\"fire_occurred\"], preds_pd[\"prediction\"])\n",
        "\n",
        "# Define labels for each cell (with counts + tag)\n",
        "group_labels = [\n",
        "    f'TN\\n{cm[0,0]}',\n",
        "    f'FP\\n{cm[0,1]}',\n",
        "    f'FN\\n{cm[1,0]}',\n",
        "    f'TP\\n{cm[1,1]}'\n",
        "]\n",
        "group_labels = np.asarray(group_labels).reshape(2,2)\n",
        "\n",
        "# Plot\n",
        "plt.figure(figsize=(6,5))\n",
        "sns.heatmap(cm, annot=group_labels, fmt='', cmap='Blues', cbar=True,\n",
        "            xticklabels=['Predicted No Fire', 'Predicted Fire'],\n",
        "            yticklabels=['Actual No Fire', 'Actual Fire'])\n",
        "\n",
        "plt.ylabel('Actual')\n",
        "plt.xlabel('Predicted')\n",
        "plt.title('Logistic Regression Confusion Matrix')\n",
        "\n",
        "\n",
        "metrics_text = (\n",
        "    f\"AUC: {auc:.3f}\\n\"\n",
        "    f\"Precision: {precision:.3f}\\n\"\n",
        "    f\"Recall: {recall:.3f}\\n\"\n",
        "    f\"Train Accuracy: {train_accuracy:.3f}\\n\"\n",
        "    f\"Test Accuracy: {accuracy:.3f}\"\n",
        ")\n",
        "\n",
        "plt.gcf().text(1.05, 0.5, metrics_text, fontsize=12, va='center')\n",
        "\n",
        "plt.tight_layout()\n",
        "plt.show()"
      ]
    },
    {
      "cell_type": "markdown",
      "metadata": {
        "id": "aVTt6gg2Cw-r"
      },
      "source": [
        "#### Heatmap"
      ]
    },
    {
      "cell_type": "code",
      "execution_count": null,
      "metadata": {
        "colab": {
          "base_uri": "https://localhost:8080/",
          "height": 511
        },
        "id": "55ZpH8avCv-3",
        "outputId": "5e3e6d94-91db-416c-f65b-a1ef89a86384"
      },
      "outputs": [
        {
          "data": {
            "image/png": "[encoded data removed]",
            "text/plain": [
              "<Figure size 640x480 with 2 Axes>"
            ]
          },
          "metadata": {},
          "output_type": "display_data"
        }
      ],
      "source": [
        "avg_prob_df = predictions.groupBy(\"region_id\", \"latitude\", \"longitude\").agg(\n",
        "    avg(\"fire_risk_prob\").alias(\"avg_fire_risk_prob\")\n",
        ")\n",
        "\n",
        "# Convert to pandas\n",
        "df_pd = avg_prob_df.toPandas()\n",
        "\n",
        "pivot_table = df_pd.pivot_table(\n",
        "    index=\"latitude\",\n",
        "    columns=\"longitude\",\n",
        "    values=\"avg_fire_risk_prob\",  # or fire_count\n",
        "    aggfunc=\"mean\"\n",
        ")\n",
        "\n",
        "sns.heatmap(pivot_table.iloc[::-1, ::-1], cmap=\"hot_r\")\n",
        "plt.xlabel(\"longitude\")\n",
        "plt.ylabel(\"latitude\")\n",
        "plt.title(\"NYC Heat Map: Predicted Fire Risk (Logistic Regression)\")\n",
        "plt.show()"
      ]
    },
    {
      "cell_type": "code",
      "execution_count": null,
      "metadata": {
        "colab": {
          "base_uri": "https://localhost:8080/",
          "height": 17
        },
        "id": "pNM_faFTISyH",
        "outputId": "dbebd9bc-b836-4dfc-dcc6-324acd0975d8"
      },
      "outputs": [
        {
          "data": {
            "application/javascript": "\n    async function download(id, filename, size) {\n      if (!google.colab.kernel.accessAllowed) {\n        return;\n      }\n      const div = document.createElement('div');\n      const label = document.createElement('label');\n      label.textContent = `Downloading \"${filename}\": `;\n      div.appendChild(label);\n      const progress = document.createElement('progress');\n      progress.max = size;\n      div.appendChild(progress);\n      document.body.appendChild(div);\n\n      const buffers = [];\n      let downloaded = 0;\n\n      const channel = await google.colab.kernel.comms.open(id);\n      // Send a message to notify the kernel that we're ready.\n      channel.send({})\n\n      for await (const message of channel.messages) {\n        // Send a message to notify the kernel that we're ready.\n        channel.send({})\n        if (message.buffers) {\n          for (const buffer of message.buffers) {\n            buffers.push(buffer);\n            downloaded += buffer.byteLength;\n            progress.value = downloaded;\n          }\n        }\n      }\n      const blob = new Blob(buffers, {type: 'application/binary'});\n      const a = document.createElement('a');\n      a.href = window.URL.createObjectURL(blob);\n      a.download = filename;\n      div.appendChild(a);\n      a.click();\n      div.remove();\n    }\n  ",
            "text/plain": [
              "<IPython.core.display.Javascript object>"
            ]
          },
          "metadata": {},
          "output_type": "display_data"
        },
        {
          "data": {
            "application/javascript": "download(\"download_8906a4f6-c21d-45f6-9ea3-54cc4ec3c388\", \"ny_predict_fire_risk_heatmap.html\", 91082)",
            "text/plain": [
              "<IPython.core.display.Javascript object>"
            ]
          },
          "metadata": {},
          "output_type": "display_data"
        }
      ],
      "source": [
        "import folium\n",
        "from folium.plugins import HeatMap\n",
        "from google.colab import files\n",
        "\n",
        "# Generate map: the center is the Statue of Liberty\n",
        "m = folium.Map(location=[40.75, -73.97], zoom_start=11)\n",
        "\n",
        "heat_data = [[\n",
        "    float(row['latitude']) + LAT_LONG_GAP/2, float(row['longitude']) + LAT_LONG_GAP/2, row['avg_fire_risk_prob']]\n",
        "             for index, row in df_pd.iterrows()]\n",
        "\n",
        "# add heatmap\n",
        "HeatMap(heat_data, radius=8).add_to(m)\n",
        "\n",
        "# save resulted map\n",
        "m.save(\"ny_predict_fire_risk_heatmap.html\")\n",
        "files.download(\"ny_predict_fire_risk_heatmap.html\")"
      ]
    },
    {
      "cell_type": "markdown",
      "metadata": {
        "id": "sQJJ1rl9mTt2"
      },
      "source": [
        "## No borough Logistic Regresion"
      ]
    },
    {
      "cell_type": "code",
      "execution_count": null,
      "metadata": {
        "id": "QMipV1v2kR_S"
      },
      "outputs": [],
      "source": [
        "assembler_no_borough = VectorAssembler(\n",
        "    inputCols=numerical_features,\n",
        "    outputCol=\"features\"\n",
        ")\n",
        "\n",
        "\n",
        "lr_no_borough = LogisticRegression(\n",
        "    labelCol=\"fire_occurred\",\n",
        "    featuresCol=\"features\"\n",
        ")\n",
        "\n",
        "pipeline_no_borough = Pipeline(stages=[\n",
        "    assembler_no_borough,\n",
        "    lr_no_borough\n",
        "])\n",
        "\n",
        "model_no_borough = pipeline_no_borough.fit(train_df)\n",
        "\n",
        "predictions_no_borough = model_no_borough.transform(test_df)\n",
        "train_predictions_no_borough = model_no_borough.transform(train_df)\n",
        "\n",
        "predictions_no_borough = predictions_no_borough.withColumn(\n",
        "    \"fire_risk_prob\",\n",
        "    extract_fire_prob_udf(col(\"probability\"))\n",
        ")"
      ]
    },
    {
      "cell_type": "code",
      "execution_count": null,
      "metadata": {
        "id": "zW2YMWOxmHju"
      },
      "outputs": [],
      "source": [
        "evaluator = BinaryClassificationEvaluator(labelCol=\"fire_occurred\")\n",
        "auc_no_borough = evaluator.evaluate(predictions_no_borough)\n",
        "print(f\"AUC without Borough: {auc_no_borough:.3f}\")"
      ]
    },
    {
      "cell_type": "code",
      "execution_count": null,
      "metadata": {
        "id": "HX2Wq43gmLUE"
      },
      "outputs": [],
      "source": [
        "predictions_no_borough.groupBy(\"fire_occurred\", \"prediction\").count().show()"
      ]
    },
    {
      "cell_type": "code",
      "execution_count": null,
      "metadata": {
        "id": "LQTbyaS6mNR4"
      },
      "outputs": [],
      "source": [
        "# Access LogisticRegressionModel inside the pipeline\n",
        "lr_model_no_borough = model_no_borough.stages[-1]\n",
        "\n",
        "coefficients_no_borough = lr_model_no_borough.coefficients\n",
        "\n",
        "\n",
        "# Print coefficients with feature names\n",
        "for name, coef in zip(numerical_features, lr_model_no_borough.coefficients):\n",
        "    print(f\"{name}: {coef:.4f}\")"
      ]
    },
    {
      "cell_type": "code",
      "execution_count": null,
      "metadata": {
        "colab": {
          "base_uri": "https://localhost:8080/"
        },
        "id": "tH7LflFLqnfv",
        "outputId": "553704db-e83c-4e21-a791-f9c0c98076a3"
      },
      "outputs": [
        {
          "name": "stdout",
          "output_type": "stream",
          "text": [
            "Precision: 0.675\n",
            "Recall: 0.194\n",
            "Train Accuracy: 0.629\n",
            "Test Accuracy: 0.624\n"
          ]
        }
      ],
      "source": [
        "precision_nb = precision_evaluator.evaluate(predictions_no_borough)\n",
        "recall_nb = recall_evaluator.evaluate(predictions_no_borough)\n",
        "accuracy_nb = accuracy_evaluator.evaluate(predictions_no_borough)\n",
        "train_accuracy_nb = accuracy_evaluator.evaluate(train_predictions_no_borough)\n",
        "\n",
        "print(f\"Precision: {precision_nb:.3f}\")\n",
        "print(f\"Recall: {recall_nb:.3f}\")\n",
        "print(f\"Train Accuracy: {train_accuracy_nb:.3f}\")\n",
        "print(f\"Test Accuracy: {accuracy_nb:.3f}\")"
      ]
    },
    {
      "cell_type": "markdown",
      "metadata": {
        "id": "S06xknqyOKPw"
      },
      "source": [
        "### Visualizations"
      ]
    },
    {
      "cell_type": "code",
      "execution_count": null,
      "metadata": {
        "id": "g4BoiBNjMolw"
      },
      "outputs": [],
      "source": [
        "# Convert to numpy array for plotting\n",
        "# Keep original (with sign)\n",
        "coef_values_signed_nb = np.array(coefficients_no_borough)\n",
        "\n",
        "# Sort features by importance\n",
        "indices_nb = np.argsort(coef_values_signed_nb)[::-1]  # High to low\n",
        "\n",
        "\n",
        "# Plot\n",
        "plt.figure(figsize=(10,6))\n",
        "plt.barh(range(len(coef_values_signed_nb)), coef_values_signed_nb[indices_nb], align='center', color=['green' if val > 0 else 'red' for val in coef_values_signed_nb[indices_nb]])\n",
        "plt.yticks(range(len(coef_values_signed_nb)), np.array(numerical_features)[indices_nb])\n",
        "plt.xlabel('Coefficient')\n",
        "plt.title('Logistic Regression Coefficients (Impact & Direction)')\n",
        "plt.gca().invert_yaxis()\n",
        "plt.show()"
      ]
    },
    {
      "cell_type": "code",
      "execution_count": null,
      "metadata": {
        "id": "OoSB2Fr3NxJN"
      },
      "outputs": [],
      "source": [
        "# Convert predictions to Pandas\n",
        "preds_pd = predictions_no_borough.select(\"fire_occurred\", \"prediction\").toPandas()\n",
        "\n",
        "# Assume preds_pd has columns: fire_occurred, prediction\n",
        "cm = confusion_matrix(preds_pd[\"fire_occurred\"], preds_pd[\"prediction\"])\n",
        "\n",
        "# Define labels for each cell (with counts + tag)\n",
        "group_labels = [\n",
        "    f'TN\\n{cm[0,0]}',\n",
        "    f'FP\\n{cm[0,1]}',\n",
        "    f'FN\\n{cm[1,0]}',\n",
        "    f'TP\\n{cm[1,1]}'\n",
        "]\n",
        "group_labels = np.asarray(group_labels).reshape(2,2)\n",
        "\n",
        "# Plot\n",
        "plt.figure(figsize=(6,5))\n",
        "sns.heatmap(cm, annot=group_labels, fmt='', cmap='Blues', cbar=True,\n",
        "            xticklabels=['Predicted No Fire', 'Predicted Fire'],\n",
        "            yticklabels=['Actual No Fire', 'Actual Fire'])\n",
        "\n",
        "plt.ylabel('Actual')\n",
        "plt.xlabel('Predicted')\n",
        "plt.title('Logistic Regression Confusion Matrix (No Boroughs)')\n",
        "\n",
        "\n",
        "metrics_text = (\n",
        "    f\"AUC: {auc_no_borough:.3f}\\n\"\n",
        "    f\"Precision: {precision_nb:.3f}\\n\"\n",
        "    f\"Recall: {recall_nb:.3f}\\n\"\n",
        "    f\"Train Accuracy: {train_accuracy_nb:.3f}\\n\"\n",
        "    f\"Test Accuracy: {accuracy_nb:.3f}\"\n",
        ")\n",
        "\n",
        "plt.gcf().text(1.05, 0.5, metrics_text, fontsize=12, va='center')\n",
        "\n",
        "plt.tight_layout()\n",
        "plt.show()"
      ]
    },
    {
      "cell_type": "code",
      "execution_count": null,
      "metadata": {
        "id": "33UEQf4zC31W"
      },
      "outputs": [],
      "source": [
        "nb_avg_prob_df = predictions_no_borough.groupBy(\"region_id\", \"latitude\", \"longitude\").agg(\n",
        "    avg(\"fire_risk_prob\").alias(\"avg_fire_risk_prob\")\n",
        ")\n",
        "\n",
        "# Convert to pandas\n",
        "nb_df_pd = nb_avg_prob_df.toPandas()\n",
        "\n",
        "nb_pivot_table = nb_df_pd.pivot_table(\n",
        "    index=\"latitude\",\n",
        "    columns=\"longitude\",\n",
        "    values=\"avg_fire_risk_prob\",  # or fire_count\n",
        "    aggfunc=\"mean\"\n",
        ")\n",
        "\n",
        "sns.heatmap(pivot_table.iloc[::-1, ::-1], cmap=\"hot_r\")\n",
        "plt.xlabel(\"longitude\")\n",
        "plt.ylabel(\"latitude\")\n",
        "plt.title(\"NYC Heat Map: Predicted Fire Risk\")\n",
        "plt.show()"
      ]
    },
    {
      "cell_type": "markdown",
      "metadata": {
        "id": "_rlWfidhnsG7"
      },
      "source": [
        "# Part 7. Training a Random Forest Model"
      ]
    },
    {
      "cell_type": "code",
      "execution_count": null,
      "metadata": {
        "id": "0C3wo25ImeIC"
      },
      "outputs": [],
      "source": [
        "assembler_rf = VectorAssembler(\n",
        "    inputCols=numerical_features + [\"BoroughVec\"],\n",
        "    outputCol=\"features\"\n",
        ")\n",
        "\n",
        "rf = RandomForestClassifier(\n",
        "    labelCol=\"fire_occurred\",\n",
        "    featuresCol=\"features\",\n",
        "    numTrees=100,\n",
        "    maxDepth=10,\n",
        "    probabilityCol=\"probability\"\n",
        ")\n",
        "\n",
        "pipeline_rf = Pipeline(stages=[\n",
        "    borough_indexer,    # Stage 0\n",
        "    borough_encoder,    # Stage 1\n",
        "    assembler_rf,       # Stage 2\n",
        "    rf                  # Stage 3\n",
        "])"
      ]
    },
    {
      "cell_type": "code",
      "execution_count": null,
      "metadata": {
        "id": "0DvOqISHoNgD"
      },
      "outputs": [],
      "source": [
        "model_rf = pipeline_rf.fit(train_df)\n",
        "\n",
        "predictions_rf = model_rf.transform(test_df)\n",
        "train_predictions_rf = model_rf.transform(train_df)"
      ]
    },
    {
      "cell_type": "code",
      "execution_count": null,
      "metadata": {
        "id": "zSY-8B1KoRfI"
      },
      "outputs": [],
      "source": [
        "predictions_rf = predictions_rf.withColumn(\n",
        "    \"fire_risk_prob\",\n",
        "    extract_fire_prob_udf(col(\"probability\"))\n",
        ")"
      ]
    },
    {
      "cell_type": "code",
      "execution_count": null,
      "metadata": {
        "colab": {
          "base_uri": "https://localhost:8080/"
        },
        "id": "ANSVU3oTovKb",
        "outputId": "b4070236-8db2-4d5c-eba3-f369b482c263"
      },
      "outputs": [
        {
          "name": "stdout",
          "output_type": "stream",
          "text": [
            "AUC (Random Forest with Borough): 0.654\n"
          ]
        }
      ],
      "source": [
        "auc_rf = evaluator.evaluate(predictions_rf)\n",
        "print(f\"AUC (Random Forest with Borough): {auc_rf:.3f}\")"
      ]
    },
    {
      "cell_type": "code",
      "execution_count": null,
      "metadata": {
        "colab": {
          "base_uri": "https://localhost:8080/"
        },
        "id": "r4B5B3Rmo2wx",
        "outputId": "930f6aec-43d1-4164-89b4-b76aa1812ffa"
      },
      "outputs": [
        {
          "name": "stdout",
          "output_type": "stream",
          "text": [
            "+-------------+----------+-----+\n",
            "|fire_occurred|prediction|count|\n",
            "+-------------+----------+-----+\n",
            "|            1|       0.0| 1869|\n",
            "|            0|       0.0| 3319|\n",
            "|            1|       1.0|  971|\n",
            "|            0|       1.0|  629|\n",
            "+-------------+----------+-----+\n",
            "\n"
          ]
        }
      ],
      "source": [
        "predictions_rf.groupBy(\"fire_occurred\", \"prediction\").count().show()"
      ]
    },
    {
      "cell_type": "code",
      "execution_count": null,
      "metadata": {
        "colab": {
          "base_uri": "https://localhost:8080/"
        },
        "id": "vF3C4mt8o7xC",
        "outputId": "ca9d12b4-0cc8-4bde-8288-9266395f1d82"
      },
      "outputs": [
        {
          "name": "stdout",
          "output_type": "stream",
          "text": [
            "total_complaints: 0.2855\n",
            "heating_complaints: 0.1885\n",
            "heating_complaint_percentage: 0.1420\n",
            "complaint_growth_ratio: 0.0923\n",
            "prev_heating_complaints: 0.1772\n",
            "Borough_QUEENS: 0.0276\n",
            "Borough_BROOKLYN: 0.0474\n",
            "Borough_BRONX: 0.0189\n",
            "Borough_MANHATTAN: 0.0126\n",
            "Borough_STATEN ISLAND: 0.0081\n"
          ]
        }
      ],
      "source": [
        "# Access the trained RandomForestModel inside the pipeline\n",
        "rf_model = model_rf.stages[-1]\n",
        "\n",
        "# Get the Borough categories from the StringIndexer stage\n",
        "borough_categories = model_rf.stages[0].labels  # Stage 0 is borough_indexer\n",
        "\n",
        "# Build full feature name list\n",
        "feature_names = numerical_features + [f\"Borough_{cat}\" for cat in borough_categories]\n",
        "\n",
        "# Print feature importances\n",
        "importances = rf_model.featureImportances\n",
        "\n",
        "for name, importance in zip(feature_names, importances):\n",
        "    print(f\"{name}: {importance:.4f}\")"
      ]
    },
    {
      "cell_type": "code",
      "execution_count": null,
      "metadata": {
        "colab": {
          "base_uri": "https://localhost:8080/"
        },
        "id": "pUiIssUDpCtx",
        "outputId": "e7766b78-1426-435a-b70f-d7a35cd26db5"
      },
      "outputs": [
        {
          "name": "stdout",
          "output_type": "stream",
          "text": [
            "Precision: 0.607\n",
            "Recall: 0.342\n",
            "Train Accuracy: 0.681\n",
            "Test Accuracy: 0.632\n"
          ]
        }
      ],
      "source": [
        "#Precision\n",
        "precision_evaluator = MulticlassClassificationEvaluator(\n",
        "    labelCol=\"fire_occurred\",\n",
        "    predictionCol=\"prediction\",\n",
        "    metricName=\"precisionByLabel\",\n",
        "    metricLabel=1.0  # <--- THIS makes it measure precision for fire (label 1)\n",
        ")\n",
        "\n",
        "#Recall\n",
        "recall_evaluator = MulticlassClassificationEvaluator(\n",
        "    labelCol=\"fire_occurred\",\n",
        "    predictionCol=\"prediction\",\n",
        "    metricName=\"recallByLabel\",\n",
        "    metricLabel=1.0\n",
        ")\n",
        "\n",
        "# Calculate\n",
        "precision_rf = precision_evaluator.evaluate(predictions_rf)\n",
        "recall_rf = recall_evaluator.evaluate(predictions_rf)\n",
        "accuracy_rf = accuracy_evaluator.evaluate(predictions_rf)\n",
        "train_accuracy_rf = accuracy_evaluator.evaluate(train_predictions_rf)\n",
        "\n",
        "print(f\"Precision: {precision_rf:.3f}\")\n",
        "print(f\"Recall: {recall_rf:.3f}\")\n",
        "print(f\"Train Accuracy: {train_accuracy_rf:.3f}\")\n",
        "print(f\"Test Accuracy: {accuracy_rf:.3f}\")"
      ]
    },
    {
      "cell_type": "markdown",
      "metadata": {
        "id": "zjMbM-TrQYJI"
      },
      "source": [
        "## Visualizations"
      ]
    },
    {
      "cell_type": "markdown",
      "metadata": {
        "id": "8hzI2FwzCVGF"
      },
      "source": [
        "### Feature importances"
      ]
    },
    {
      "cell_type": "code",
      "execution_count": null,
      "metadata": {
        "colab": {
          "base_uri": "https://localhost:8080/",
          "height": 607
        },
        "id": "uMYcpoH3O_lX",
        "outputId": "e8954a1e-1d66-4c9a-cbc2-c317abe8ce98"
      },
      "outputs": [
        {
          "data": {
            "image/png": "[encoded data removed]",
            "text/plain": [
              "<Figure size 1000x600 with 1 Axes>"
            ]
          },
          "metadata": {},
          "output_type": "display_data"
        }
      ],
      "source": [
        "importances = rf_model.featureImportances.toArray()\n",
        "indices = np.argsort(importances)  # Sort low → high for horizontal bar\n",
        "\n",
        "plt.figure(figsize=(10,6))\n",
        "plt.barh(range(len(importances)), importances[indices], align='center', color='skyblue')\n",
        "plt.yticks(range(len(importances)), np.array(feature_names)[indices])\n",
        "plt.xlabel('Feature Importance')\n",
        "plt.title('Random Forest Feature Importances')\n",
        "plt.tight_layout()\n",
        "plt.show()"
      ]
    },
    {
      "cell_type": "markdown",
      "metadata": {
        "id": "gviOnQ8iCXag"
      },
      "source": [
        "### Confusion Matrix"
      ]
    },
    {
      "cell_type": "code",
      "execution_count": null,
      "metadata": {
        "colab": {
          "base_uri": "https://localhost:8080/",
          "height": 507
        },
        "id": "zU0tz_MvqCZg",
        "outputId": "bd118e9b-0572-4089-9fab-7982b84b5640"
      },
      "outputs": [
        {
          "data": {
            "image/png": "[encoded data removed]",
            "text/plain": [
              "<Figure size 600x500 with 2 Axes>"
            ]
          },
          "metadata": {},
          "output_type": "display_data"
        }
      ],
      "source": [
        "# Convert predictions to Pandas\n",
        "preds_pd = predictions_rf.select(\"fire_occurred\", \"prediction\").toPandas()\n",
        "\n",
        "# Assume preds_pd has columns: fire_occurred, prediction\n",
        "cm = confusion_matrix(preds_pd[\"fire_occurred\"], preds_pd[\"prediction\"])\n",
        "\n",
        "# Define labels for each cell (with counts + tag)\n",
        "group_labels = [\n",
        "    f'TN\\n{cm[0,0]}',\n",
        "    f'FP\\n{cm[0,1]}',\n",
        "    f'FN\\n{cm[1,0]}',\n",
        "    f'TP\\n{cm[1,1]}'\n",
        "]\n",
        "group_labels = np.asarray(group_labels).reshape(2,2)\n",
        "\n",
        "# Plot\n",
        "plt.figure(figsize=(6,5))\n",
        "sns.heatmap(cm, annot=group_labels, fmt='', cmap='Blues', cbar=True,\n",
        "            xticklabels=['Predicted No Fire', 'Predicted Fire'],\n",
        "            yticklabels=['Actual No Fire', 'Actual Fire'])\n",
        "\n",
        "plt.ylabel('Actual')\n",
        "plt.xlabel('Predicted')\n",
        "plt.title('Random Forest Confusion Matrix')\n",
        "\n",
        "\n",
        "metrics_text = (\n",
        "    f\"AUC: {auc_rf:.3f}\\n\"\n",
        "    f\"Precision: {precision_rf:.3f}\\n\"\n",
        "    f\"Recall: {recall_rf:.3f}\\n\"\n",
        "    f\"Train Accuracy: {train_accuracy_rf:.3f}\\n\"\n",
        "    f\"Test Accuracy: {accuracy_rf:.3f}\"\n",
        ")\n",
        "\n",
        "plt.gcf().text(1.05, 0.5, metrics_text, fontsize=12, va='center')\n",
        "\n",
        "plt.tight_layout()\n",
        "plt.show()"
      ]
    },
    {
      "cell_type": "markdown",
      "metadata": {
        "id": "xjinkj-nCZym"
      },
      "source": [
        "### Heatmap"
      ]
    },
    {
      "cell_type": "code",
      "execution_count": null,
      "metadata": {
        "colab": {
          "base_uri": "https://localhost:8080/"
        },
        "id": "q3x5bH2vOwk4",
        "outputId": "ff15c796-a17f-4844-9e41-823d4be8652f"
      },
      "outputs": [
        {
          "data": {
            "image/png": "[encoded data removed]",
            "text/plain": [
              "<Figure size 640x480 with 2 Axes>"
            ]
          },
          "metadata": {},
          "output_type": "display_data"
        }
      ],
      "source": [
        "rf_avg_prob_df = predictions_rf.groupBy(\"region_id\", \"latitude\", \"longitude\").agg(\n",
        "    avg(\"fire_risk_prob\").alias(\"avg_fire_risk_prob\")\n",
        ")\n",
        "# Convert to pandas\n",
        "rf_df_pd = rf_avg_prob_df.toPandas()\n",
        "\n",
        "rf_pivot_table = rf_df_pd.pivot_table(\n",
        "    index=\"latitude\",\n",
        "    columns=\"longitude\",\n",
        "    values=\"avg_fire_risk_prob\",  # or fire_count\n",
        "    aggfunc=\"mean\"\n",
        ")\n",
        "\n",
        "sns.heatmap(rf_pivot_table.iloc[::-1, ::-1], cmap=\"hot_r\")\n",
        "plt.xlabel(\"longitude\")\n",
        "plt.ylabel(\"latitude\")\n",
        "plt.title(\"NYC Heat Map: Predicted Fire Risk (Random Forest)\")\n",
        "plt.show()"
      ]
    },
    {
      "cell_type": "code",
      "execution_count": null,
      "metadata": {
        "colab": {
          "base_uri": "https://localhost:8080/",
          "height": 17
        },
        "id": "lpf590YaIvkU",
        "outputId": "a1ea8730-dac8-42cc-bdb4-e66dd4ba58f2"
      },
      "outputs": [
        {
          "data": {
            "application/javascript": "\n    async function download(id, filename, size) {\n      if (!google.colab.kernel.accessAllowed) {\n        return;\n      }\n      const div = document.createElement('div');\n      const label = document.createElement('label');\n      label.textContent = `Downloading \"${filename}\": `;\n      div.appendChild(label);\n      const progress = document.createElement('progress');\n      progress.max = size;\n      div.appendChild(progress);\n      document.body.appendChild(div);\n\n      const buffers = [];\n      let downloaded = 0;\n\n      const channel = await google.colab.kernel.comms.open(id);\n      // Send a message to notify the kernel that we're ready.\n      channel.send({})\n\n      for await (const message of channel.messages) {\n        // Send a message to notify the kernel that we're ready.\n        channel.send({})\n        if (message.buffers) {\n          for (const buffer of message.buffers) {\n            buffers.push(buffer);\n            downloaded += buffer.byteLength;\n            progress.value = downloaded;\n          }\n        }\n      }\n      const blob = new Blob(buffers, {type: 'application/binary'});\n      const a = document.createElement('a');\n      a.href = window.URL.createObjectURL(blob);\n      a.download = filename;\n      div.appendChild(a);\n      a.click();\n      div.remove();\n    }\n  ",
            "text/plain": [
              "<IPython.core.display.Javascript object>"
            ]
          },
          "metadata": {},
          "output_type": "display_data"
        },
        {
          "data": {
            "application/javascript": "download(\"download_191106b9-531b-4496-a1f9-e8077dd2e053\", \"ny_predict_fire_risk_heatmap_random_forest.html\", 91013)",
            "text/plain": [
              "<IPython.core.display.Javascript object>"
            ]
          },
          "metadata": {},
          "output_type": "display_data"
        }
      ],
      "source": [
        "import folium\n",
        "from folium.plugins import HeatMap\n",
        "from google.colab import files\n",
        "\n",
        "# Generate map: the center is the Statue of Liberty\n",
        "m = folium.Map(location=[40.75, -73.97], zoom_start=11)\n",
        "\n",
        "heat_data = [\n",
        "    [float(row['latitude']) + LAT_LONG_GAP/2, float(row['longitude']) + LAT_LONG_GAP/2, row['avg_fire_risk_prob']]\n",
        "    for index, row in rf_df_pd.iterrows()]\n",
        "\n",
        "# add heatmap\n",
        "HeatMap(heat_data, radius=8).add_to(m)\n",
        "\n",
        "# save resulted map\n",
        "m.save(\"ny_predict_fire_risk_heatmap_random_forest.html\")\n",
        "files.download(\"ny_predict_fire_risk_heatmap_random_forest.html\")"
      ]
    }
  ],
  "metadata": {
    "colab": {
      "provenance": []
    },
    "kernelspec": {
      "display_name": "Python 3",
      "name": "python3"
    },
    "language_info": {
      "name": "python"
    }
  },
  "nbformat": 4,
  "nbformat_minor": 0
}
